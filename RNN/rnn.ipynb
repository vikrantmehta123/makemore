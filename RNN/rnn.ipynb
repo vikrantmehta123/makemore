{
 "cells": [
  {
   "cell_type": "markdown",
   "metadata": {},
   "source": [
    "# RNN Based Language Model From Scratch"
   ]
  },
  {
   "cell_type": "markdown",
   "metadata": {},
   "source": [
    "In this notebook, I have tried to implement the part 3 of Andrej Karpathy's `Makemore` series, and my notes from the lecture."
   ]
  },
  {
   "cell_type": "code",
   "execution_count": 1,
   "metadata": {},
   "outputs": [],
   "source": [
    "# imports\n",
    "import torch\n",
    "import matplotlib.pyplot as plt\n",
    "import torch.nn.functional as F\n",
    "%matplotlib inline"
   ]
  },
  {
   "cell_type": "code",
   "execution_count": null,
   "metadata": {},
   "outputs": [
    {
     "data": {
      "text/plain": [
       "(32033,\n",
       " ['emma', 'olivia', 'ava', 'isabella', 'sophia', 'charlotte', 'mia', 'amelia'])"
      ]
     },
     "execution_count": 3,
     "metadata": {},
     "output_type": "execute_result"
    }
   ],
   "source": [
    "# Read Data\n",
    "words = open(r'../names.txt', 'r').read().splitlines()\n",
    "len(words), words[:8]"
   ]
  },
  {
   "cell_type": "code",
   "execution_count": null,
   "metadata": {},
   "outputs": [
    {
     "name": "stdout",
     "output_type": "stream",
     "text": [
      "itos:  {1: 'a', 2: 'b', 3: 'c', 4: 'd', 5: 'e', 6: 'f', 7: 'g', 8: 'h', 9: 'i', 10: 'j', 11: 'k', 12: 'l', 13: 'm', 14: 'n', 15: 'o', 16: 'p', 17: 'q', 18: 'r', 19: 's', 20: 't', 21: 'u', 22: 'v', 23: 'w', 24: 'x', 25: 'y', 26: 'z', 0: '.'}\n",
      "Vocab Size is:  27\n"
     ]
    }
   ],
   "source": [
    "# Building vocabulary and Basic Character encoding and decoding\n",
    "\n",
    "chars = sorted(list(set(''.join(words)))) # Get all the unique chars in sorted order\n",
    "\n",
    "stoi = {s:i+1 for i, s in enumerate(chars)}\n",
    "stoi['.'] = 0\n",
    "itos = {i:s for s, i in stoi.items()}\n",
    "vocab_size = len(itos)\n",
    "print(\"itos: \", itos)\n",
    "print(\"Vocab Size is: \", vocab_size)"
   ]
  },
  {
   "cell_type": "markdown",
   "metadata": {},
   "source": [
    "### Building the Dataset\n",
    "\n",
    "Since this is a character level language model, we will be predicting the next in a sequence of some `block_size` elements. That is, if `block_size=3`, then our model will be predicting the fourth letter in a sequence of three characters. You can think of block size as the context length."
   ]
  },
  {
   "cell_type": "code",
   "execution_count": 9,
   "metadata": {},
   "outputs": [],
   "source": [
    "block_size = 3 \n",
    "\n",
    "def build_dataset(words):\n",
    "    X, Y = [ ], [ ]\n",
    "\n",
    "    for w in words:\n",
    "        context = [0] * block_size # For start of the word, have a padded context\n",
    "        for char in w + \".\":\n",
    "            idx = stoi[char]\n",
    "            X.append(context)\n",
    "            Y.append(idx)\n",
    "\n",
    "            context = context[1:] + [idx]\n",
    "\n",
    "    X = torch.tensor(X)\n",
    "    Y = torch.tensor(Y)\n",
    "\n",
    "    return X, Y"
   ]
  },
  {
   "cell_type": "code",
   "execution_count": 10,
   "metadata": {},
   "outputs": [
    {
     "name": "stdout",
     "output_type": "stream",
     "text": [
      "Train sizes:  torch.Size([182437, 3]) torch.Size([182437])\n",
      "Validation Sizes:  torch.Size([22781, 3]) torch.Size([22781])\n",
      "Test Sizes:  torch.Size([22928, 3]) torch.Size([22928])\n"
     ]
    }
   ],
   "source": [
    "import random\n",
    "\n",
    "random.seed(42)\n",
    "random.shuffle(words)\n",
    "\n",
    "n1 = int(0.8*len(words))\n",
    "n2 = int(0.9*len(words))\n",
    "\n",
    "X_train, Y_train = build_dataset(words=words[:n1])\n",
    "X_val, Y_val = build_dataset(words=words[n1:n2])\n",
    "X_test, Y_test = build_dataset(words=words[n2:])\n",
    "\n",
    "print(\"Train sizes: \", X_train.shape, Y_train.shape)\n",
    "print(\"Validation Sizes: \", X_val.shape, Y_val.shape)\n",
    "print(\"Test Sizes: \", X_test.shape, Y_test.shape)"
   ]
  },
  {
   "cell_type": "markdown",
   "metadata": {},
   "source": [
    "### Revisiting MLP Code"
   ]
  },
  {
   "cell_type": "code",
   "execution_count": 16,
   "metadata": {},
   "outputs": [
    {
     "name": "stdout",
     "output_type": "stream",
     "text": [
      "Total Parameters:  11897\n"
     ]
    }
   ],
   "source": [
    "n_embd = 10 # the dimensionality of the character embedding vectors\n",
    "n_hidden = 200 # the number of neurons in the hidden layer of the MLP\n",
    "\n",
    "g = torch.Generator().manual_seed(2147483647) # for reproducibility\n",
    "C  = torch.randn((vocab_size, n_embd),            generator=g)\n",
    "W1 = torch.randn((n_embd * block_size, n_hidden), generator=g)\n",
    "b1 = torch.randn(n_hidden,                        generator=g) \n",
    "W2 = torch.randn((n_hidden, vocab_size),          generator=g) \n",
    "b2 = torch.randn(vocab_size,                      generator=g)\n",
    "\n",
    "\n",
    "parameters = [C, W1, b1, W2, b2]\n",
    "print(\"Total Parameters: \", sum(p.nelement() for p in parameters)) # number of parameters in total\n",
    "for p in parameters:\n",
    "  p.requires_grad = True"
   ]
  },
  {
   "cell_type": "code",
   "execution_count": 17,
   "metadata": {},
   "outputs": [
    {
     "name": "stdout",
     "output_type": "stream",
     "text": [
      "      0/  20000: 25.5262\n",
      "   1000/  20000: 3.5105\n",
      "   2000/  20000: 2.6203\n",
      "   3000/  20000: 3.1271\n",
      "   4000/  20000: 2.8015\n",
      "   5000/  20000: 2.7176\n",
      "   6000/  20000: 2.8684\n",
      "   7000/  20000: 2.6495\n",
      "   8000/  20000: 2.3124\n",
      "   9000/  20000: 2.6709\n",
      "  10000/  20000: 1.8494\n",
      "  11000/  20000: 2.1175\n",
      "  12000/  20000: 2.2411\n",
      "  13000/  20000: 2.2771\n",
      "  14000/  20000: 2.7150\n",
      "  15000/  20000: 2.2039\n",
      "  16000/  20000: 2.5933\n",
      "  17000/  20000: 2.4171\n",
      "  18000/  20000: 2.2371\n",
      "  19000/  20000: 2.6148\n"
     ]
    }
   ],
   "source": [
    "epochs = 20000\n",
    "batch_size = 32\n",
    "lossi = [ ]\n",
    "\n",
    "for i in range(epochs):\n",
    "\n",
    "    # Construct the minibatch\n",
    "    idxs = torch.randint(0, X_train.shape[0], (batch_size, ), generator=g)\n",
    "    X_batch, y_batch = X_train[idxs], Y_train[idxs]\n",
    "\n",
    "    # Forward pass\n",
    "    embeddings = C[X_batch]\n",
    "    concatenated_embeddings = embeddings.view(embeddings.shape[0], -1) # Concatenate the embeddings\n",
    "    preactivations = concatenated_embeddings @ W1 + b1\n",
    "    activations = torch.tanh(preactivations)\n",
    "    logits = activations @ W2 + b2 # Output layer\n",
    "\n",
    "    loss = F.cross_entropy(logits, y_batch) # PyTorch will apply softmax internally\n",
    "\n",
    "    for p in parameters:\n",
    "        p.grad = None\n",
    "\n",
    "    loss.backward()\n",
    "\n",
    "    lr = 0.1 if i < 10_000 else 0.01\n",
    "\n",
    "    for p in parameters:\n",
    "        p.data -= lr * p.grad\n",
    "\n",
    "    if i % 1000 == 0:\n",
    "        print(f\"{i:7d}/{epochs:7d}: {loss.item():.4f}\")\n",
    "    lossi.append(loss.log10().item())"
   ]
  },
  {
   "cell_type": "code",
   "execution_count": 18,
   "metadata": {},
   "outputs": [
    {
     "data": {
      "text/plain": [
       "[<matplotlib.lines.Line2D at 0x16b7dfdf290>]"
      ]
     },
     "execution_count": 18,
     "metadata": {},
     "output_type": "execute_result"
    },
    {
     "data": {
      "image/png": "[encoded data removed]",
      "text/plain": [
       "<Figure size 640x480 with 1 Axes>"
      ]
     },
     "metadata": {},
     "output_type": "display_data"
    }
   ],
   "source": [
    "plt.plot(lossi)"
   ]
  },
  {
   "cell_type": "code",
   "execution_count": 21,
   "metadata": {},
   "outputs": [
    {
     "name": "stdout",
     "output_type": "stream",
     "text": [
      "For train, loss was: 2.3057711124420166\n",
      "For val, loss was: 2.3421437740325928\n"
     ]
    }
   ],
   "source": [
    "@torch.no_grad()\n",
    "def split_loss(split):\n",
    "    x, y = {\n",
    "        'train': [X_train, Y_train], \n",
    "        'test': [X_test, Y_test], \n",
    "        'val': [X_val, Y_val]\n",
    "    }[split]\n",
    "\n",
    "    embeddings = C[x]\n",
    "    concatenated_embeddings = embeddings.view(embeddings.shape[0], -1)\n",
    "    preactivations = concatenated_embeddings @ W1 + b1\n",
    "    activations = torch.tanh(preactivations)\n",
    "    logits = activations @ W2 + b2 # Output layer\n",
    "\n",
    "    loss = F.cross_entropy(logits, y) # PyTorch will apply softmax internally\n",
    "\n",
    "    print(f\"For {split}, loss was: {loss.item()}\")\n",
    "\n",
    "split_loss('train')\n",
    "split_loss('val')"
   ]
  },
  {
   "cell_type": "markdown",
   "metadata": {},
   "source": [
    "##### Predictions Using the Model"
   ]
  },
  {
   "cell_type": "code",
   "execution_count": 24,
   "metadata": {},
   "outputs": [
    {
     "name": "stdout",
     "output_type": "stream",
     "text": [
      "mri.\n",
      "ammyanniee.\n",
      "mad.\n",
      "ryah.\n",
      "rethan.\n",
      "engramo.\n",
      "azeeph.\n",
      "eliigell.\n",
      "jen.\n",
      "ede.\n",
      "sustanar.\n",
      "kayziostara.\n",
      "noshurergahiries.\n",
      "kinie.\n",
      "jelinnn.\n",
      "pucanu.\n",
      "mayve.\n",
      "ryy.\n",
      "juliel.\n",
      "ylay.\n"
     ]
    }
   ],
   "source": [
    "g = torch.Generator().manual_seed(2147483647 + 10)\n",
    "\n",
    "for _ in range(20):\n",
    "    out = [ ]\n",
    "    context = [0] * block_size\n",
    "\n",
    "    while True:\n",
    "\n",
    "        embeddings = C[torch.tensor([context])]\n",
    "        h = torch.tanh(embeddings.view(1, -1) @ W1  + b1)\n",
    "        logits = h @ W2 + b2\n",
    "        probs = F.softmax(logits, dim=1)\n",
    "\n",
    "        idx = torch.multinomial(probs, num_samples=1, generator=g).item()\n",
    "\n",
    "        context = context[1:] + [idx]\n",
    "\n",
    "        out.append(idx)\n",
    "\n",
    "        if idx == 0:\n",
    "            break\n",
    "\n",
    "    print(\"\".join(itos[i] for i in out))"
   ]
  },
  {
   "cell_type": "markdown",
   "metadata": {},
   "source": [
    "### Pro Tip:\n",
    "\n",
    "When training neural networks, you should always have a rough intuition of what the loss should be at initialization. Think in terms of what the problem is and what the model setup is to get an idea of this. Do some research online also. For example, in the MLP case, **at initialization**, we don't have any reason to believe that our model should assign higher probability to any of the characters. Thus, initially, the probabilities assigned to each character should be equal- $1/27$. Since the loss is negative log likelihood, the loss we should expect at initialization is: $-torch.tensor(1/27.0).log()=3.295$"
   ]
  },
  {
   "cell_type": "markdown",
   "metadata": {},
   "source": [
    "### Better Initialization"
   ]
  },
  {
   "cell_type": "markdown",
   "metadata": {},
   "source": [
    "Notice how the actual loss is way worse than the expected loss. So, there's something wrong with the initialization. Ideally, we want the `logits` ( the final layer values before we apply softmax ) to be roughly equal for all characters, because that will give us roughly uniform probabilities for all characters, i.e. the loss that we expect. At the moment, the logits are taking extreme values which is giving high initial loss. See the below cell for an example of this."
   ]
  },
  {
   "cell_type": "code",
   "execution_count": 35,
   "metadata": {},
   "outputs": [
    {
     "name": "stdout",
     "output_type": "stream",
     "text": [
      "Loss:  23.761310577392578\n",
      "Logits:  tensor([ -2.9895, -10.7259,  11.5962,  -0.8956,  -0.6400,   5.4567,   1.1519,\n",
      "         16.1026,  11.0054, -13.5825,  -0.5682,   7.2399,  21.2001,  17.9306,\n",
      "         29.7785,   9.4731,  10.3627,  15.3446, -11.1299,  21.2104, -13.5997,\n",
      "          2.1821, -13.4498,   4.9201,   7.2097, -13.4729,  -7.7893],\n",
      "       grad_fn=<SelectBackward0>)\n"
     ]
    }
   ],
   "source": [
    "C  = torch.randn((vocab_size, n_embd),            generator=g)\n",
    "W1 = torch.randn((n_embd * block_size, n_hidden), generator=g)\n",
    "b1 = torch.randn(n_hidden,                        generator=g) \n",
    "W2 = torch.randn((n_hidden, vocab_size),          generator=g) \n",
    "b2 = torch.randn(vocab_size,                      generator=g)\n",
    "\n",
    "parameters = [C, W1, b1, W2, b2]\n",
    "for p in parameters:\n",
    "  p.requires_grad = True\n",
    "\n",
    "epochs = 1\n",
    "batch_size = 32\n",
    "lossi = [ ]\n",
    "\n",
    "for i in range(epochs):\n",
    "\n",
    "    # Construct the minibatch\n",
    "    idxs = torch.randint(0, X_train.shape[0], (batch_size, ), generator=g)\n",
    "    X_batch, y_batch = X_train[idxs], Y_train[idxs]\n",
    "\n",
    "    # Forward pass\n",
    "    embeddings = C[X_batch]\n",
    "    concatenated_embeddings = embeddings.view(embeddings.shape[0], -1) # Concatenate the embeddings\n",
    "    preactivations = concatenated_embeddings @ W1 + b1\n",
    "    activations = torch.tanh(preactivations)\n",
    "    logits = activations @ W2 + b2 # Output layer\n",
    "\n",
    "    loss = F.cross_entropy(logits, y_batch) # PyTorch will apply softmax internally\n",
    "\n",
    "    for p in parameters:\n",
    "        p.grad = None\n",
    "\n",
    "    loss.backward()\n",
    "\n",
    "    lr = 0.1 if i < 10_000 else 0.01\n",
    "\n",
    "    for p in parameters:\n",
    "        p.data -= lr * p.grad\n",
    "\n",
    "print(\"Loss: \", loss.item())\n",
    "print(\"Logits: \", logits[0])"
   ]
  },
  {
   "cell_type": "markdown",
   "metadata": {},
   "source": [
    "#### How to Get Logits Closer to Zero?\n",
    "\n",
    "Since `logits = activations * W2 + b2`, we can reduce the values of $b2 and W2$ at initialization so that logits don't take randomly extreme values."
   ]
  },
  {
   "cell_type": "code",
   "execution_count": null,
   "metadata": {},
   "outputs": [
    {
     "name": "stdout",
     "output_type": "stream",
     "text": [
      "Loss:  3.3084709644317627\n"
     ]
    }
   ],
   "source": [
    "C = torch.randn((vocab_size, n_embd),            generator=g)\n",
    "W1 = torch.randn((n_embd * block_size, n_hidden), generator=g)\n",
    "b1 = torch.randn(n_hidden,                        generator=g)\n",
    "W2 = torch.randn((n_hidden, vocab_size),          generator=g) * 0.01 # Make W2 smaller\n",
    "b2 = torch.randn(vocab_size,                      generator=g) * 0.0 # Make b2 smaller\n",
    "\n",
    "parameters = [C, W1, b1, W2, b2]\n",
    "for p in parameters:\n",
    "    p.requires_grad = True\n",
    "\n",
    "epochs = 1\n",
    "batch_size = 32\n",
    "lossi = []\n",
    "\n",
    "for i in range(epochs):\n",
    "\n",
    "    # Construct the minibatch\n",
    "    idxs = torch.randint(0, X_train.shape[0], (batch_size, ), generator=g)\n",
    "    X_batch, y_batch = X_train[idxs], Y_train[idxs]\n",
    "\n",
    "    # Forward pass\n",
    "    embeddings = C[X_batch]\n",
    "    concatenated_embeddings = embeddings.view(\n",
    "        embeddings.shape[0], -1)  # Concatenate the embeddings\n",
    "    preactivations = concatenated_embeddings @ W1 + b1\n",
    "    activations = torch.tanh(preactivations)\n",
    "    logits = activations @ W2 + b2  # Output layer\n",
    "\n",
    "    # PyTorch will apply softmax internally\n",
    "    loss = F.cross_entropy(logits, y_batch)\n",
    "\n",
    "    for p in parameters:\n",
    "        p.grad = None\n",
    "\n",
    "    loss.backward()\n",
    "\n",
    "    lr = 0.1 if i < 10_000 else 0.01\n",
    "\n",
    "    for p in parameters:\n",
    "        p.data -= lr * p.grad\n",
    "\n",
    "print(\"Loss: \", loss.item())"
   ]
  },
  {
   "cell_type": "markdown",
   "metadata": {},
   "source": [
    "The loss is much closer to what we expect. \n",
    "\n",
    "But **Pro Tip:** You don't want the weights of the neural net to be zero. You want them to be small but not zero."
   ]
  },
  {
   "cell_type": "markdown",
   "metadata": {},
   "source": [
    "Let's let the training run to see how loss behaves now with this improved initialization."
   ]
  },
  {
   "cell_type": "code",
   "execution_count": 38,
   "metadata": {},
   "outputs": [
    {
     "name": "stdout",
     "output_type": "stream",
     "text": [
      "      0/  20000: 3.3042\n",
      "   1000/  20000: 2.3162\n",
      "   2000/  20000: 2.0227\n",
      "   3000/  20000: 2.4296\n",
      "   4000/  20000: 2.4050\n",
      "   5000/  20000: 2.4665\n",
      "   6000/  20000: 2.6894\n",
      "   7000/  20000: 2.1206\n",
      "   8000/  20000: 2.7971\n",
      "   9000/  20000: 2.3439\n",
      "  10000/  20000: 2.3008\n",
      "  11000/  20000: 1.9749\n",
      "  12000/  20000: 2.3511\n",
      "  13000/  20000: 2.1149\n",
      "  14000/  20000: 2.4707\n",
      "  15000/  20000: 2.5113\n",
      "  16000/  20000: 2.0083\n",
      "  17000/  20000: 2.3844\n",
      "  18000/  20000: 2.1596\n",
      "  19000/  20000: 1.8818\n",
      "Loss:  2.0451409816741943\n"
     ]
    }
   ],
   "source": [
    "C = torch.randn((vocab_size, n_embd),            generator=g)\n",
    "W1 = torch.randn((n_embd * block_size, n_hidden), generator=g)\n",
    "b1 = torch.randn(n_hidden,                        generator=g)\n",
    "W2 = torch.randn((n_hidden, vocab_size),          generator=g) * 0.01 # Make W2 smaller\n",
    "b2 = torch.randn(vocab_size,                      generator=g) * 0.0 # Make b2 smaller\n",
    "\n",
    "parameters = [C, W1, b1, W2, b2]\n",
    "for p in parameters:\n",
    "    p.requires_grad = True\n",
    "\n",
    "epochs = 20_000\n",
    "batch_size = 32\n",
    "lossi = []\n",
    "\n",
    "for i in range(epochs):\n",
    "\n",
    "    # Construct the minibatch\n",
    "    idxs = torch.randint(0, X_train.shape[0], (batch_size, ), generator=g)\n",
    "    X_batch, y_batch = X_train[idxs], Y_train[idxs]\n",
    "\n",
    "    # Forward pass\n",
    "    embeddings = C[X_batch]\n",
    "    concatenated_embeddings = embeddings.view(\n",
    "        embeddings.shape[0], -1)  # Concatenate the embeddings\n",
    "    preactivations = concatenated_embeddings @ W1 + b1\n",
    "    activations = torch.tanh(preactivations)\n",
    "    logits = activations @ W2 + b2  # Output layer\n",
    "\n",
    "    # PyTorch will apply softmax internally\n",
    "    loss = F.cross_entropy(logits, y_batch)\n",
    "\n",
    "    for p in parameters:\n",
    "        p.grad = None\n",
    "\n",
    "    loss.backward()\n",
    "\n",
    "    lr = 0.1 if i < 10_000 else 0.01\n",
    "\n",
    "    for p in parameters:\n",
    "        p.data -= lr * p.grad\n",
    "\n",
    "    if i % 1000 == 0:\n",
    "        print(f\"{i:7d}/{epochs:7d}: {loss.item():.4f}\")\n",
    "    lossi.append(loss.log10().item())\n",
    "\n",
    "print(\"Loss: \", loss.item())"
   ]
  },
  {
   "cell_type": "code",
   "execution_count": null,
   "metadata": {},
   "outputs": [
    {
     "data": {
      "text/plain": [
       "[<matplotlib.lines.Line2D at 0x16b7ec3b2d0>]"
      ]
     },
     "execution_count": 30,
     "metadata": {},
     "output_type": "execute_result"
    },
    {
     "data": {
      "image/png": "[encoded data removed]",
      "text/plain": [
       "<Figure size 640x480 with 1 Axes>"
      ]
     },
     "metadata": {},
     "output_type": "display_data"
    }
   ],
   "source": [
    "plt.plot(lossi)"
   ]
  },
  {
   "cell_type": "code",
   "execution_count": null,
   "metadata": {},
   "outputs": [
    {
     "name": "stdout",
     "output_type": "stream",
     "text": [
      "For train, loss was: 2.1784121990203857\n",
      "For val, loss was: 2.2251222133636475\n"
     ]
    },
    {
     "data": {
      "text/plain": [
       "(None, None)"
      ]
     },
     "execution_count": 34,
     "metadata": {},
     "output_type": "execute_result"
    }
   ],
   "source": [
    "split_loss('train'), split_loss('val')"
   ]
  },
  {
   "cell_type": "markdown",
   "metadata": {},
   "source": [
    "The previous loss was around 2.3 and now it is slightly improved. Think about this: In the initial epochs, the model was squishing down the values of W2 and b2 and that was wasting epochs. But now, since we've already initialized them to lower values, these initial epochs are not wasted- as evidenced by the two loss plots."
   ]
  },
  {
   "cell_type": "markdown",
   "metadata": {},
   "source": [
    "### Improving Tanh"
   ]
  },
  {
   "cell_type": "code",
   "execution_count": 39,
   "metadata": {},
   "outputs": [
    {
     "name": "stdout",
     "output_type": "stream",
     "text": [
      "activations:  tensor([[ 0.9998,  0.8901,  0.9995,  ...,  0.9965,  0.8952, -0.8968],\n",
      "        [ 0.9999,  0.8990,  1.0000,  ..., -0.9632, -0.9210, -0.5609],\n",
      "        [-0.9861, -0.9992,  0.9512,  ..., -0.2763,  0.9999, -0.7673],\n",
      "        ...,\n",
      "        [ 0.9997, -0.9741, -0.9999,  ...,  0.3980,  1.0000, -0.9998],\n",
      "        [ 0.4245,  0.9983,  0.8884,  ...,  0.7165,  0.9994,  0.9978],\n",
      "        [-0.9848, -0.9999, -0.3301,  ...,  0.9898, -0.9831,  0.9549]],\n",
      "       grad_fn=<TanhBackward0>)\n"
     ]
    }
   ],
   "source": [
    "C  = torch.randn((vocab_size, n_embd),            generator=g)\n",
    "W1 = torch.randn((n_embd * block_size, n_hidden), generator=g)\n",
    "b1 = torch.randn(n_hidden,                        generator=g) \n",
    "W2 = torch.randn((n_hidden, vocab_size),          generator=g) \n",
    "b2 = torch.randn(vocab_size,                      generator=g)\n",
    "\n",
    "parameters = [C, W1, b1, W2, b2]\n",
    "for p in parameters:\n",
    "  p.requires_grad = True\n",
    "\n",
    "epochs = 1\n",
    "batch_size = 32\n",
    "lossi = [ ]\n",
    "\n",
    "for i in range(epochs):\n",
    "\n",
    "    # Construct the minibatch\n",
    "    idxs = torch.randint(0, X_train.shape[0], (batch_size, ), generator=g)\n",
    "    X_batch, y_batch = X_train[idxs], Y_train[idxs]\n",
    "\n",
    "    # Forward pass\n",
    "    embeddings = C[X_batch]\n",
    "    concatenated_embeddings = embeddings.view(embeddings.shape[0], -1) # Concatenate the embeddings\n",
    "    preactivations = concatenated_embeddings @ W1 + b1\n",
    "    activations = torch.tanh(preactivations)\n",
    "    logits = activations @ W2 + b2 # Output layer\n",
    "\n",
    "    loss = F.cross_entropy(logits, y_batch) # PyTorch will apply softmax internally\n",
    "\n",
    "    for p in parameters:\n",
    "        p.grad = None\n",
    "\n",
    "    loss.backward()\n",
    "\n",
    "    lr = 0.1 if i < 10_000 else 0.01\n",
    "\n",
    "    for p in parameters:\n",
    "        p.data -= lr * p.grad\n",
    "\n",
    "    break\n",
    "\n",
    "print(\"activations: \", activations)"
   ]
  },
  {
   "cell_type": "code",
   "execution_count": 41,
   "metadata": {},
   "outputs": [
    {
     "data": {
      "text/plain": [
       "(array([62.,  6.,  5.,  1.,  2.,  1.,  1.,  0.,  3.,  0.,  0.,  0.,  0.,\n",
       "         2.,  0.,  1.,  0.,  1.,  1.,  1.,  4.,  1.,  0.,  1.,  0.,  0.,\n",
       "         0.,  0.,  0.,  0.,  0.,  0.,  1.,  1.,  0.,  0.,  0.,  0.,  1.,\n",
       "         0.,  1.,  1.,  2.,  3.,  3.,  2.,  1.,  3.,  8., 80.]),\n",
       " array([-1.  , -0.96, -0.92, -0.88, -0.84, -0.8 , -0.76, -0.72, -0.68,\n",
       "        -0.64, -0.6 , -0.56, -0.52, -0.48, -0.44, -0.4 , -0.36, -0.32,\n",
       "        -0.28, -0.24, -0.2 , -0.16, -0.12, -0.08, -0.04,  0.  ,  0.04,\n",
       "         0.08,  0.12,  0.16,  0.2 ,  0.24,  0.28,  0.32,  0.36,  0.4 ,\n",
       "         0.44,  0.48,  0.52,  0.56,  0.6 ,  0.64,  0.68,  0.72,  0.76,\n",
       "         0.8 ,  0.84,  0.88,  0.92,  0.96,  1.  ]),\n",
       " <BarContainer object of 50 artists>)"
      ]
     },
     "execution_count": 41,
     "metadata": {},
     "output_type": "execute_result"
    },
    {
     "data": {
      "image/png": "[encoded data removed]",
      "text/plain": [
       "<Figure size 640x480 with 1 Axes>"
      ]
     },
     "metadata": {},
     "output_type": "display_data"
    }
   ],
   "source": [
    "plt.hist(h.view(-1).tolist(), 50)"
   ]
  },
  {
   "cell_type": "markdown",
   "metadata": {},
   "source": [
    "Most of the activations are at -1 or 1 at initialization. Remember the derivative of tanh? It was $(1-t**2)$. This means that when the activations are -1 or 1, then their gradient becomes zero. So, at initialization itself, these neurons become dead neurons. If the value of `t==0`, then you have maximum gradient, which is 1, i.e. the gradient just passes through. But in all other cases, the gradient decreases."
   ]
  },
  {
   "cell_type": "code",
   "execution_count": null,
   "metadata": {},
   "outputs": [
    {
     "data": {
      "text/plain": [
       "<matplotlib.image.AxesImage at 0x16b06b14250>"
      ]
     },
     "execution_count": 43,
     "metadata": {},
     "output_type": "execute_result"
    },
    {
     "data": {
      "image/png": "[encoded data removed]",
      "text/plain": [
       "<Figure size 2000x1000 with 1 Axes>"
      ]
     },
     "metadata": {},
     "output_type": "display_data"
    }
   ],
   "source": [
    "# White = True, Black = False\n",
    "plt.figure(figsize=(20, 10))\n",
    "plt.imshow(activations.abs() > 0.99, cmap='gray', interpolation='nearest')"
   ]
  },
  {
   "cell_type": "markdown",
   "metadata": {},
   "source": [
    "All the white cells represent the instances where the tanh is giving extreme values. X-axis is the number of neurons. Y-axis is the sample.\n",
    "If an entire column is white, that's a cause for big trouble. That means that for any of the input, the neuron didn't fire. If the neuron is not firing for any input, then it's a dead neuron.\n",
    "\n",
    "Sigmoid, Tanh, ReLU are neurons where such situation can occur. At times, this happens during initialization. At times, this happens during optimization- when your learning rate is too high, for instance.\n",
    "\n",
    "Here, at initialization, many neurons are not getting gradients, which is not good. So what can be done to improve on this?"
   ]
  },
  {
   "cell_type": "markdown",
   "metadata": {},
   "source": [
    "#### Better Preactivations\n",
    "\n",
    "The values of the preactivations are too extreme, that's what is being fed into the tanh and that is making the tanh go closer to -1 and 1. For instance, in the plot below, we see the values of preactivations are between [-20, 20], which is quite extreme. We can fix this by doing the same thing that we did for the activations- scale down the initial weights and biases."
   ]
  },
  {
   "cell_type": "code",
   "execution_count": 44,
   "metadata": {},
   "outputs": [
    {
     "data": {
      "text/plain": [
       "(array([  2.,   1.,   0.,   1.,   4.,   4.,   7.,  13.,  10.,   2.,  16.,\n",
       "         39.,  50.,  56.,  74., 106., 144., 178., 176., 287., 298., 349.,\n",
       "        366., 371., 424., 422., 384., 393., 378., 301., 313., 265., 260.,\n",
       "        176., 124.,  94.,  88.,  71.,  52.,  31.,  15.,  12.,  11.,  14.,\n",
       "          6.,   5.,   3.,   0.,   3.,   1.]),\n",
       " array([-21.32138824, -20.47886902, -19.63634979, -18.79383057,\n",
       "        -17.95131134, -17.10879211, -16.26627289, -15.42375366,\n",
       "        -14.58123444, -13.73871521, -12.89619598, -12.05367676,\n",
       "        -11.21115753, -10.36863831,  -9.52611908,  -8.68359985,\n",
       "         -7.84108063,  -6.9985614 ,  -6.15604218,  -5.31352295,\n",
       "         -4.47100372,  -3.6284845 ,  -2.78596527,  -1.94344604,\n",
       "         -1.10092682,  -0.25840759,   0.58411163,   1.42663086,\n",
       "          2.26915009,   3.11166931,   3.95418854,   4.79670776,\n",
       "          5.63922699,   6.48174622,   7.32426544,   8.16678467,\n",
       "          9.00930389,   9.85182312,  10.69434235,  11.53686157,\n",
       "         12.3793808 ,  13.22190002,  14.06441925,  14.90693848,\n",
       "         15.7494577 ,  16.59197693,  17.43449615,  18.27701538,\n",
       "         19.11953461,  19.96205383,  20.80457306]),\n",
       " <BarContainer object of 50 artists>)"
      ]
     },
     "execution_count": 44,
     "metadata": {},
     "output_type": "execute_result"
    },
    {
     "data": {
      "image/png": "[encoded data removed]",
      "text/plain": [
       "<Figure size 640x480 with 1 Axes>"
      ]
     },
     "metadata": {},
     "output_type": "display_data"
    }
   ],
   "source": [
    "plt.hist(preactivations.view(-1).tolist(), 50)"
   ]
  },
  {
   "cell_type": "code",
   "execution_count": 46,
   "metadata": {},
   "outputs": [],
   "source": [
    "C  = torch.randn((vocab_size, n_embd),            generator=g)\n",
    "W1 = torch.randn((n_embd * block_size, n_hidden), generator=g) * 0.1\n",
    "b1 = torch.randn(n_hidden,                        generator=g) * 0.01\n",
    "W2 = torch.randn((n_hidden, vocab_size),          generator=g) * 0.01\n",
    "b2 = torch.randn(vocab_size,                      generator=g) * 0\n",
    "\n",
    "parameters = [C, W1, b1, W2, b2]\n",
    "for p in parameters:\n",
    "  p.requires_grad = True\n",
    "\n",
    "epochs = 1\n",
    "batch_size = 32\n",
    "lossi = [ ]\n",
    "\n",
    "for i in range(epochs):\n",
    "\n",
    "    # Construct the minibatch\n",
    "    idxs = torch.randint(0, X_train.shape[0], (batch_size, ), generator=g)\n",
    "    X_batch, y_batch = X_train[idxs], Y_train[idxs]\n",
    "\n",
    "    # Forward pass\n",
    "    embeddings = C[X_batch]\n",
    "    concatenated_embeddings = embeddings.view(embeddings.shape[0], -1) # Concatenate the embeddings\n",
    "    preactivations = concatenated_embeddings @ W1 + b1\n",
    "    activations = torch.tanh(preactivations)\n",
    "    logits = activations @ W2 + b2 # Output layer\n",
    "\n",
    "    loss = F.cross_entropy(logits, y_batch) # PyTorch will apply softmax internally\n",
    "\n",
    "    for p in parameters:\n",
    "        p.grad = None\n",
    "\n",
    "    loss.backward()\n",
    "\n",
    "    lr = 0.1 if i < 10_000 else 0.01\n",
    "\n",
    "    for p in parameters:\n",
    "        p.data -= lr * p.grad\n",
    "\n",
    "    break"
   ]
  },
  {
   "cell_type": "code",
   "execution_count": 49,
   "metadata": {},
   "outputs": [
    {
     "data": {
      "text/plain": [
       "(array([  1.,   1.,   2.,   1.,   3.,  10.,  16.,  19.,  25.,  34.,  55.,\n",
       "         55.,  91.,  96., 155., 184., 215., 250., 267., 333., 357., 341.,\n",
       "        397., 384., 404., 359., 357., 319., 306., 305., 221., 197., 140.,\n",
       "        106., 100.,  84.,  65.,  54.,  34.,  28.,  12.,   4.,   5.,   3.,\n",
       "          2.,   1.,   0.,   0.,   1.,   1.]),\n",
       " array([-2.0297389 , -1.94485509, -1.85997128, -1.77508746, -1.69020365,\n",
       "        -1.60531983, -1.52043602, -1.43555221, -1.35066839, -1.26578458,\n",
       "        -1.18090076, -1.09601695, -1.01113314, -0.92624932, -0.84136551,\n",
       "        -0.7564817 , -0.67159788, -0.58671407, -0.50183025, -0.41694644,\n",
       "        -0.33206263, -0.24717881, -0.162295  , -0.07741118,  0.00747263,\n",
       "         0.09235644,  0.17724026,  0.26212407,  0.34700788,  0.4318917 ,\n",
       "         0.51677551,  0.60165933,  0.68654314,  0.77142695,  0.85631077,\n",
       "         0.94119458,  1.0260784 ,  1.11096221,  1.19584602,  1.28072984,\n",
       "         1.36561365,  1.45049747,  1.53538128,  1.62026509,  1.70514891,\n",
       "         1.79003272,  1.87491653,  1.95980035,  2.04468416,  2.12956798,\n",
       "         2.21445179]),\n",
       " <BarContainer object of 50 artists>)"
      ]
     },
     "execution_count": 49,
     "metadata": {},
     "output_type": "execute_result"
    },
    {
     "data": {
      "image/png": "[encoded data removed]",
      "text/plain": [
       "<Figure size 640x480 with 1 Axes>"
      ]
     },
     "metadata": {},
     "output_type": "display_data"
    }
   ],
   "source": [
    "\n",
    "plt.title(\"Preactivations\")\n",
    "plt.hist(preactivations.view(-1).tolist(), 50)\n"
   ]
  },
  {
   "cell_type": "code",
   "execution_count": 50,
   "metadata": {},
   "outputs": [
    {
     "data": {
      "text/plain": [
       "(array([  6.,  30.,  44.,  73.,  61.,  93.,  91., 110., 126., 141., 145.,\n",
       "        147., 155., 140., 166., 174., 183., 172., 181., 165., 156., 188.,\n",
       "        194., 165., 181., 186., 191., 164., 169., 160., 183., 148., 157.,\n",
       "        172., 165., 176., 164., 155., 124., 138., 109.,  93.,  87.,  92.,\n",
       "         89.,  84.,  55.,  35.,  12.,   5.]),\n",
       " array([-0.96606952, -0.92721961, -0.8883697 , -0.84951978, -0.81066987,\n",
       "        -0.77181996, -0.73297005, -0.69412014, -0.65527023, -0.61642031,\n",
       "        -0.5775704 , -0.53872049, -0.49987058, -0.46102067, -0.42217076,\n",
       "        -0.38332084, -0.34447093, -0.30562102, -0.26677111, -0.2279212 ,\n",
       "        -0.18907129, -0.15022137, -0.11137146, -0.07252155, -0.03367164,\n",
       "         0.00517827,  0.04402818,  0.0828781 ,  0.12172801,  0.16057792,\n",
       "         0.19942783,  0.23827774,  0.27712765,  0.31597757,  0.35482748,\n",
       "         0.39367739,  0.4325273 ,  0.47137721,  0.51022712,  0.54907704,\n",
       "         0.58792695,  0.62677686,  0.66562677,  0.70447668,  0.74332659,\n",
       "         0.78217651,  0.82102642,  0.85987633,  0.89872624,  0.93757615,\n",
       "         0.97642606]),\n",
       " <BarContainer object of 50 artists>)"
      ]
     },
     "execution_count": 50,
     "metadata": {},
     "output_type": "execute_result"
    },
    {
     "data": {
      "image/png": "[encoded data removed]",
      "text/plain": [
       "<Figure size 640x480 with 1 Axes>"
      ]
     },
     "metadata": {},
     "output_type": "display_data"
    }
   ],
   "source": [
    "plt.title(\"Activations- Tanh Outputs\")\n",
    "plt.hist(activations.view(-1).tolist(), 50)"
   ]
  },
  {
   "cell_type": "markdown",
   "metadata": {},
   "source": [
    "This is much better. We have a much less saturated tanh."
   ]
  }
 ],
 "metadata": {
  "kernelspec": {
   "display_name": "makemore",
   "language": "python",
   "name": "python3"
  },
  "language_info": {
   "codemirror_mode": {
    "name": "ipython",
    "version": 3
   },
   "file_extension": ".py",
   "mimetype": "text/x-python",
   "name": "python",
   "nbconvert_exporter": "python",
   "pygments_lexer": "ipython3",
   "version": "3.11.10"
  }
 },
 "nbformat": 4,
 "nbformat_minor": 2
}
