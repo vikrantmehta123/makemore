{
 "cells": [
  {
   "cell_type": "markdown",
   "metadata": {},
   "source": [
    "# RNN Based Language Model From Scratch"
   ]
  },
  {
   "cell_type": "markdown",
   "metadata": {},
   "source": [
    "In this notebook, I have tried to implement the part 3 of Andrej Karpathy's `Makemore` series."
   ]
  },
  {
   "cell_type": "code",
   "execution_count": 1,
   "metadata": {},
   "outputs": [],
   "source": [
    "# imports\n",
    "import torch\n",
    "import matplotlib.pyplot as plt\n",
    "import torch.nn.functional as F\n",
    "%matplotlib inline"
   ]
  },
  {
   "cell_type": "code",
   "execution_count": 3,
   "metadata": {},
   "outputs": [
    {
     "data": {
      "text/plain": [
       "(32033,\n",
       " ['emma', 'olivia', 'ava', 'isabella', 'sophia', 'charlotte', 'mia', 'amelia'])"
      ]
     },
     "execution_count": 3,
     "metadata": {},
     "output_type": "execute_result"
    }
   ],
   "source": [
    "words = open(r'../names.txt', 'r').read().splitlines()\n",
    "len(words), words[:8]"
   ]
  },
  {
   "cell_type": "code",
   "execution_count": null,
   "metadata": {},
   "outputs": [
    {
     "name": "stdout",
     "output_type": "stream",
     "text": [
      "itos:  {1: 'a', 2: 'b', 3: 'c', 4: 'd', 5: 'e', 6: 'f', 7: 'g', 8: 'h', 9: 'i', 10: 'j', 11: 'k', 12: 'l', 13: 'm', 14: 'n', 15: 'o', 16: 'p', 17: 'q', 18: 'r', 19: 's', 20: 't', 21: 'u', 22: 'v', 23: 'w', 24: 'x', 25: 'y', 26: 'z', 0: '.'}\n",
      "Vocab Size is:  27\n"
     ]
    }
   ],
   "source": [
    "# Building vocabulary and Basic Character encoding and decoding\n",
    "\n",
    "chars = sorted(list(set(''.join(words)))) # Get all the unique chars in sorted order\n",
    "\n",
    "stoi = {s:i+1 for i, s in enumerate(chars)}\n",
    "stoi['.'] = 0\n",
    "itos = {i:s for s, i in stoi.items()}\n",
    "vocab_size = len(itos)\n",
    "print(\"itos: \", itos)\n",
    "print(\"Vocab Size is: \", vocab_size)"
   ]
  },
  {
   "cell_type": "markdown",
   "metadata": {},
   "source": [
    "### Building the Dataset\n",
    "\n",
    "Since this is a character level language model, we will be predicting the next in a sequence of some `block_size` elements. That is, if `block_size=3`, then our model will be predicting the fourth letter in a sequence of three characters. You can think of block size as the context length."
   ]
  },
  {
   "cell_type": "code",
   "execution_count": 9,
   "metadata": {},
   "outputs": [],
   "source": [
    "block_size = 3 \n",
    "\n",
    "def build_dataset(words):\n",
    "    X, Y = [ ], [ ]\n",
    "\n",
    "    for w in words:\n",
    "        context = [0] * block_size # For start of the word, have a padded context\n",
    "        for char in w + \".\":\n",
    "            idx = stoi[char]\n",
    "            X.append(context)\n",
    "            Y.append(idx)\n",
    "\n",
    "            context = context[1:] + [idx]\n",
    "\n",
    "    X = torch.tensor(X)\n",
    "    Y = torch.tensor(Y)\n",
    "\n",
    "    return X, Y"
   ]
  },
  {
   "cell_type": "code",
   "execution_count": 10,
   "metadata": {},
   "outputs": [
    {
     "name": "stdout",
     "output_type": "stream",
     "text": [
      "Train sizes:  torch.Size([182437, 3]) torch.Size([182437])\n",
      "Validation Sizes:  torch.Size([22781, 3]) torch.Size([22781])\n",
      "Test Sizes:  torch.Size([22928, 3]) torch.Size([22928])\n"
     ]
    }
   ],
   "source": [
    "import random\n",
    "\n",
    "random.seed(42)\n",
    "random.shuffle(words)\n",
    "\n",
    "n1 = int(0.8*len(words))\n",
    "n2 = int(0.9*len(words))\n",
    "\n",
    "X_train, Y_train = build_dataset(words=words[:n1])\n",
    "X_val, Y_val = build_dataset(words=words[n1:n2])\n",
    "X_test, Y_test = build_dataset(words=words[n2:])\n",
    "\n",
    "print(\"Train sizes: \", X_train.shape, Y_train.shape)\n",
    "print(\"Validation Sizes: \", X_val.shape, Y_val.shape)\n",
    "print(\"Test Sizes: \", X_test.shape, Y_test.shape)"
   ]
  },
  {
   "cell_type": "markdown",
   "metadata": {},
   "source": [
    "### Revisiting MLP Code"
   ]
  },
  {
   "cell_type": "code",
   "execution_count": 16,
   "metadata": {},
   "outputs": [
    {
     "name": "stdout",
     "output_type": "stream",
     "text": [
      "Total Parameters:  11897\n"
     ]
    }
   ],
   "source": [
    "n_embd = 10 # the dimensionality of the character embedding vectors\n",
    "n_hidden = 200 # the number of neurons in the hidden layer of the MLP\n",
    "\n",
    "g = torch.Generator().manual_seed(2147483647) # for reproducibility\n",
    "C  = torch.randn((vocab_size, n_embd),            generator=g)\n",
    "W1 = torch.randn((n_embd * block_size, n_hidden), generator=g)\n",
    "b1 = torch.randn(n_hidden,                        generator=g) \n",
    "W2 = torch.randn((n_hidden, vocab_size),          generator=g) \n",
    "b2 = torch.randn(vocab_size,                      generator=g)\n",
    "\n",
    "\n",
    "parameters = [C, W1, b1, W2, b2]\n",
    "print(\"Total Parameters: \", sum(p.nelement() for p in parameters)) # number of parameters in total\n",
    "for p in parameters:\n",
    "  p.requires_grad = True"
   ]
  },
  {
   "cell_type": "code",
   "execution_count": 17,
   "metadata": {},
   "outputs": [
    {
     "name": "stdout",
     "output_type": "stream",
     "text": [
      "      0/  20000: 25.5262\n",
      "   1000/  20000: 3.5105\n",
      "   2000/  20000: 2.6203\n",
      "   3000/  20000: 3.1271\n",
      "   4000/  20000: 2.8015\n",
      "   5000/  20000: 2.7176\n",
      "   6000/  20000: 2.8684\n",
      "   7000/  20000: 2.6495\n",
      "   8000/  20000: 2.3124\n",
      "   9000/  20000: 2.6709\n",
      "  10000/  20000: 1.8494\n",
      "  11000/  20000: 2.1175\n",
      "  12000/  20000: 2.2411\n",
      "  13000/  20000: 2.2771\n",
      "  14000/  20000: 2.7150\n",
      "  15000/  20000: 2.2039\n",
      "  16000/  20000: 2.5933\n",
      "  17000/  20000: 2.4171\n",
      "  18000/  20000: 2.2371\n",
      "  19000/  20000: 2.6148\n"
     ]
    }
   ],
   "source": [
    "epochs = 20000\n",
    "batch_size = 32\n",
    "lossi = [ ]\n",
    "\n",
    "for i in range(epochs):\n",
    "\n",
    "    # Construct the minibatch\n",
    "    idxs = torch.randint(0, X_train.shape[0], (batch_size, ), generator=g)\n",
    "    X_batch, y_batch = X_train[idxs], Y_train[idxs]\n",
    "\n",
    "    # Forward pass\n",
    "    embeddings = C[X_batch]\n",
    "    concatenated_embeddings = embeddings.view(embeddings.shape[0], -1) # Concatenate the embeddings\n",
    "    preactivations = concatenated_embeddings @ W1 + b1\n",
    "    activations = torch.tanh(preactivations)\n",
    "    logits = activations @ W2 + b2 # Output layer\n",
    "\n",
    "    loss = F.cross_entropy(logits, y_batch) # PyTorch will apply softmax internally\n",
    "\n",
    "    for p in parameters:\n",
    "        p.grad = None\n",
    "\n",
    "    loss.backward()\n",
    "\n",
    "    lr = 0.1 if i < 10_000 else 0.01\n",
    "\n",
    "    for p in parameters:\n",
    "        p.data -= lr * p.grad\n",
    "\n",
    "    if i % 1000 == 0:\n",
    "        print(f\"{i:7d}/{epochs:7d}: {loss.item():.4f}\")\n",
    "    lossi.append(loss.log10().item())"
   ]
  },
  {
   "cell_type": "code",
   "execution_count": 18,
   "metadata": {},
   "outputs": [
    {
     "data": {
      "text/plain": [
       "[<matplotlib.lines.Line2D at 0x16b7dfdf290>]"
      ]
     },
     "execution_count": 18,
     "metadata": {},
     "output_type": "execute_result"
    },
    {
     "data": {
      "image/png": "[encoded data removed]",
      "text/plain": [
       "<Figure size 640x480 with 1 Axes>"
      ]
     },
     "metadata": {},
     "output_type": "display_data"
    }
   ],
   "source": [
    "plt.plot(lossi)"
   ]
  },
  {
   "cell_type": "code",
   "execution_count": 21,
   "metadata": {},
   "outputs": [
    {
     "name": "stdout",
     "output_type": "stream",
     "text": [
      "For train, loss was: 2.3057711124420166\n",
      "For val, loss was: 2.3421437740325928\n"
     ]
    }
   ],
   "source": [
    "@torch.no_grad()\n",
    "def split_loss(split):\n",
    "    x, y = {\n",
    "        'train': [X_train, Y_train], \n",
    "        'test': [X_test, Y_test], \n",
    "        'val': [X_val, Y_val]\n",
    "    }[split]\n",
    "\n",
    "    embeddings = C[x]\n",
    "    concatenated_embeddings = embeddings.view(embeddings.shape[0], -1)\n",
    "    preactivations = concatenated_embeddings @ W1 + b1\n",
    "    activations = torch.tanh(preactivations)\n",
    "    logits = activations @ W2 + b2 # Output layer\n",
    "\n",
    "    loss = F.cross_entropy(logits, y) # PyTorch will apply softmax internally\n",
    "\n",
    "    print(f\"For {split}, loss was: {loss.item()}\")\n",
    "\n",
    "split_loss('train')\n",
    "split_loss('val')"
   ]
  },
  {
   "cell_type": "markdown",
   "metadata": {},
   "source": [
    "##### Predictions Using the Model"
   ]
  },
  {
   "cell_type": "code",
   "execution_count": 24,
   "metadata": {},
   "outputs": [
    {
     "name": "stdout",
     "output_type": "stream",
     "text": [
      "mri.\n",
      "ammyanniee.\n",
      "mad.\n",
      "ryah.\n",
      "rethan.\n",
      "engramo.\n",
      "azeeph.\n",
      "eliigell.\n",
      "jen.\n",
      "ede.\n",
      "sustanar.\n",
      "kayziostara.\n",
      "noshurergahiries.\n",
      "kinie.\n",
      "jelinnn.\n",
      "pucanu.\n",
      "mayve.\n",
      "ryy.\n",
      "juliel.\n",
      "ylay.\n"
     ]
    }
   ],
   "source": [
    "g = torch.Generator().manual_seed(2147483647 + 10)\n",
    "\n",
    "for _ in range(20):\n",
    "    out = [ ]\n",
    "    context = [0] * block_size\n",
    "\n",
    "    while True:\n",
    "\n",
    "        embeddings = C[torch.tensor([context])]\n",
    "        h = torch.tanh(embeddings.view(1, -1) @ W1  + b1)\n",
    "        logits = h @ W2 + b2\n",
    "        probs = F.softmax(logits, dim=1)\n",
    "\n",
    "        idx = torch.multinomial(probs, num_samples=1, generator=g).item()\n",
    "\n",
    "        context = context[1:] + [idx]\n",
    "\n",
    "        out.append(idx)\n",
    "\n",
    "        if idx == 0:\n",
    "            break\n",
    "\n",
    "    print(\"\".join(itos[i] for i in out))"
   ]
  },
  {
   "cell_type": "markdown",
   "metadata": {},
   "source": [
    "### Pro Tip:\n",
    "\n",
    "When training neural networks, you should always have a rough intuition of what the loss should be at initialization. Think in terms of what the problem is and what the model setup is to get an idea of this. Do some research online also. For example, in the MLP case, **at initialization**, we don't have any reason to believe that our model should assign higher probability to any of the characters. Thus, initially, the probabilities assigned to each character should be equal- $1/27$. Since the loss is negative log likelihood, the loss we should expect at initialization is: $-torch.tensor(1/27.0).log()=3.295$"
   ]
  },
  {
   "cell_type": "markdown",
   "metadata": {},
   "source": [
    "### Batch Normalization\n"
   ]
  },
  {
   "cell_type": "markdown",
   "metadata": {},
   "source": [
    "Notice how the actual loss is way worse than the expected loss. So, there's something wrong with the initialization."
   ]
  }
 ],
 "metadata": {
  "kernelspec": {
   "display_name": "makemore",
   "language": "python",
   "name": "python3"
  },
  "language_info": {
   "codemirror_mode": {
    "name": "ipython",
    "version": 3
   },
   "file_extension": ".py",
   "mimetype": "text/x-python",
   "name": "python",
   "nbconvert_exporter": "python",
   "pygments_lexer": "ipython3",
   "version": "3.11.10"
  }
 },
 "nbformat": 4,
 "nbformat_minor": 2
}
