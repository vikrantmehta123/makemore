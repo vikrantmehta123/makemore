{
 "cells": [
  {
   "cell_type": "markdown",
   "metadata": {},
   "source": [
    "# WaveNet"
   ]
  },
  {
   "cell_type": "markdown",
   "metadata": {},
   "source": [
    "In this notebook, I have tried to implement the Makemore: Part 5 from Andrej Karpathy's series. This notebook is my implementation, along with the notes that I took while following along the lecture."
   ]
  },
  {
   "cell_type": "code",
   "execution_count": 45,
   "metadata": {},
   "outputs": [],
   "source": [
    "# imports\n",
    "import torch\n",
    "import matplotlib.pyplot as plt\n",
    "import torch.nn.functional as F\n",
    "%matplotlib inline"
   ]
  },
  {
   "cell_type": "markdown",
   "metadata": {},
   "source": [
    "### Building the Dataset\n",
    "\n",
    "Same as always- we're creating training, test, and validation datasets where each training input is a three character sequence and the output is the 4th character that we want to predict."
   ]
  },
  {
   "cell_type": "code",
   "execution_count": 46,
   "metadata": {},
   "outputs": [
    {
     "data": {
      "text/plain": [
       "(32033,\n",
       " ['emma', 'olivia', 'ava', 'isabella', 'sophia', 'charlotte', 'mia', 'amelia'])"
      ]
     },
     "execution_count": 46,
     "metadata": {},
     "output_type": "execute_result"
    }
   ],
   "source": [
    "# Read Data\n",
    "words = open(r'../names.txt', 'r').read().splitlines()\n",
    "len(words), words[:8]"
   ]
  },
  {
   "cell_type": "code",
   "execution_count": 47,
   "metadata": {},
   "outputs": [
    {
     "name": "stdout",
     "output_type": "stream",
     "text": [
      "itos:  {1: 'a', 2: 'b', 3: 'c', 4: 'd', 5: 'e', 6: 'f', 7: 'g', 8: 'h', 9: 'i', 10: 'j', 11: 'k', 12: 'l', 13: 'm', 14: 'n', 15: 'o', 16: 'p', 17: 'q', 18: 'r', 19: 's', 20: 't', 21: 'u', 22: 'v', 23: 'w', 24: 'x', 25: 'y', 26: 'z', 0: '.'}\n",
      "Vocab Size is:  27\n"
     ]
    }
   ],
   "source": [
    "# Building vocabulary and Basic Character encoding and decoding\n",
    "\n",
    "chars = sorted(list(set(''.join(words)))) # Get all the unique chars in sorted order\n",
    "\n",
    "stoi = {s:i+1 for i, s in enumerate(chars)}\n",
    "stoi['.'] = 0\n",
    "itos = {i:s for s, i in stoi.items()}\n",
    "vocab_size = len(itos)\n",
    "print(\"itos: \", itos)\n",
    "print(\"Vocab Size is: \", vocab_size)"
   ]
  },
  {
   "cell_type": "code",
   "execution_count": 48,
   "metadata": {},
   "outputs": [],
   "source": [
    "import random\n",
    "\n",
    "random.seed(42)\n",
    "random.shuffle(words)"
   ]
  },
  {
   "cell_type": "code",
   "execution_count": 49,
   "metadata": {},
   "outputs": [],
   "source": [
    "block_size = 3 \n",
    "\n",
    "def build_dataset(words):\n",
    "    X, Y = [ ], [ ]\n",
    "\n",
    "    for w in words:\n",
    "        context = [0] * block_size # For start of the word, have a padded context\n",
    "        for char in w + \".\":\n",
    "            idx = stoi[char]\n",
    "            X.append(context)\n",
    "            Y.append(idx)\n",
    "\n",
    "            context = context[1:] + [idx]\n",
    "\n",
    "    X = torch.tensor(X)\n",
    "    Y = torch.tensor(Y)\n",
    "\n",
    "    return X, Y"
   ]
  },
  {
   "cell_type": "code",
   "execution_count": 50,
   "metadata": {},
   "outputs": [
    {
     "name": "stdout",
     "output_type": "stream",
     "text": [
      "Train sizes:  torch.Size([182625, 3]) torch.Size([182625])\n",
      "Validation Sizes:  torch.Size([22655, 3]) torch.Size([22655])\n",
      "Test Sizes:  torch.Size([22866, 3]) torch.Size([22866])\n"
     ]
    }
   ],
   "source": [
    "# Train, Validation, and test split\n",
    "n1 = int(0.8*len(words))\n",
    "n2 = int(0.9*len(words))\n",
    "\n",
    "X_train, Y_train = build_dataset(words=words[:n1]) # 80% of data\n",
    "X_val, Y_val = build_dataset(words=words[n1:n2]) # 10% of data\n",
    "X_test, Y_test = build_dataset(words=words[n2:]) # 10% of data\n",
    "\n",
    "print(\"Train sizes: \", X_train.shape, Y_train.shape)\n",
    "print(\"Validation Sizes: \", X_val.shape, Y_val.shape)\n",
    "print(\"Test Sizes: \", X_test.shape, Y_test.shape)"
   ]
  },
  {
   "cell_type": "markdown",
   "metadata": {},
   "source": [
    "## PyTorch-ifying\n",
    "\n",
    "In part 3, we PyTorch-ified some of our code. We defined layers and modules, but there is more simplification that we can do. We do it in this section."
   ]
  },
  {
   "cell_type": "markdown",
   "metadata": {},
   "source": [
    "This is what we had so far."
   ]
  },
  {
   "cell_type": "code",
   "execution_count": 51,
   "metadata": {},
   "outputs": [],
   "source": [
    "class Linear:\n",
    "    def __init__(self, fan_in, fan_out, bias=True):\n",
    "        self.weight = torch.randn((fan_in, fan_out)) / (fan_in **0.5) # Divide by sqrt(fan_in)\n",
    "        self.bias = torch.zeros(fan_out) if bias else None\n",
    "\n",
    "    def __call__(self, x):\n",
    "        self.out = x @ self.weight\n",
    "        if self.bias is not None:\n",
    "            self.out += self.bias\n",
    "        return self.out\n",
    "    \n",
    "    def parameters(self):\n",
    "        return [self.weight] + ([] if self.bias is None else [self.bias])\n",
    "\n",
    "class BatchNorm1d:\n",
    "    def __init__(self, dim, eps=1e-5, momentum=0.1):\n",
    "        self.eps = eps # Small number to avoid zero division error when normalization\n",
    "        self.momentum = momentum\n",
    "        self.training = True\n",
    "\n",
    "        # Parameters\n",
    "        self.gamma = torch.ones(dim)\n",
    "        self.beta = torch.zeros(dim)\n",
    "\n",
    "        # Not parameters- \"buffers\"\n",
    "        self.running_mean = torch.ones(dim)\n",
    "        self.running_var = torch.zeros(dim)\n",
    "\n",
    "    def __call__(self, x:torch.Tensor):\n",
    "        if self.training:\n",
    "            xmean = x.mean(0, keepdim=True) # Batch mean\n",
    "            xvar = x.var(0, keepdim=True, unbiased=True) # Batch variance\n",
    "\n",
    "        else:\n",
    "            xmean = self.running_mean\n",
    "            xvar = self.running_var\n",
    "\n",
    "        xhat = (x - xmean) / torch.sqrt(xvar + self.eps) # Normalize to zero mean and unit variance\n",
    "\n",
    "        self.out = self.gamma * xhat +  self.beta\n",
    "        \n",
    "        if self.training:\n",
    "            with torch.no_grad():\n",
    "                self.running_mean = (1 - self.momentum) * self.running_mean + self.momentum * xmean\n",
    "                self.running_var = (1 - self.momentum) * self.running_var + self.momentum * xvar\n",
    "        return self.out\n",
    "    \n",
    "    def parameters(self):\n",
    "        return [self.gamma, self.beta]\n",
    "\n",
    "class Tanh:\n",
    "    def __call__(self, x):\n",
    "        self.out = torch.tanh(x)\n",
    "        return self.out\n",
    "\n",
    "    def parameters(self):\n",
    "        return []"
   ]
  },
  {
   "cell_type": "markdown",
   "metadata": {},
   "source": [
    "With these modules, we were defining the layers, like this. But before going there, let's define the manual seed for PyTorch."
   ]
  },
  {
   "cell_type": "code",
   "execution_count": 52,
   "metadata": {},
   "outputs": [
    {
     "data": {
      "text/plain": [
       "<torch._C.Generator at 0x225fdd3fab0>"
      ]
     },
     "execution_count": 52,
     "metadata": {},
     "output_type": "execute_result"
    }
   ],
   "source": [
    "torch.manual_seed(42)"
   ]
  },
  {
   "cell_type": "code",
   "execution_count": 53,
   "metadata": {},
   "outputs": [],
   "source": [
    "n_emb = 10\n",
    "n_hidden = 200\n",
    "\n",
    "C = torch.randn((vocab_size, n_emb))\n",
    "layers = [\n",
    "    Linear(n_emb * block_size, n_hidden, bias=False), \n",
    "    BatchNorm1d(n_hidden), \n",
    "    Tanh(), \n",
    "    Linear(n_hidden, vocab_size)\n",
    "]\n",
    "\n",
    "with torch.no_grad():\n",
    "    layers[-1].weight *= 0.1 # Make the last layer less confident\n",
    "\n",
    "parameters = [ C ] + [ p for layer in layers for p in layer.parameters() ]\n",
    "\n",
    "for p in parameters:\n",
    "    p.requires_grad = True"
   ]
  },
  {
   "cell_type": "code",
   "execution_count": 54,
   "metadata": {},
   "outputs": [],
   "source": [
    "epochs = 10_000\n",
    "batch_size = 32\n",
    "lossi = [ ]\n",
    "\n",
    "for i in range(epochs):\n",
    "\n",
    "    ix = torch.randint(0, X_train.shape[0], (batch_size, ))\n",
    "    x_batch, y_batch = X_train[ix], Y_train[ix]\n",
    "\n",
    "    # Observe these two lines- no PyTorch-ifying them yet\n",
    "    embeddings = C[x_batch]\n",
    "    x = embeddings.view(embeddings.shape[0], -1)\n",
    "\n",
    "    for layer in layers:\n",
    "        x = layer(x)\n",
    "\n",
    "    loss = F.cross_entropy(x, y_batch)\n",
    "\n",
    "    for p in parameters:\n",
    "        p.grad = None\n",
    "\n",
    "    loss.backward()\n",
    "\n",
    "    for p in parameters:\n",
    "        p.data -= 0.01 * p.grad\n",
    "\n",
    "    break"
   ]
  },
  {
   "cell_type": "markdown",
   "metadata": {},
   "source": [
    "But note that the embedding matrix and the `torch.view()` operation weren't part of the layers. So we build these modules."
   ]
  },
  {
   "cell_type": "code",
   "execution_count": 55,
   "metadata": {},
   "outputs": [],
   "source": [
    "class Embedding:\n",
    "    def __init__(self, num_embeddings, embedding_dim):\n",
    "        self.weight = torch.randn((num_embeddings, embedding_dim))\n",
    "\n",
    "    def __call__(self, ix):\n",
    "        self.out = self.weight[ix]\n",
    "        return self.out\n",
    "    \n",
    "    def parameters(self):\n",
    "        return [self.weight]\n",
    "    \n",
    "class Flatten:\n",
    "    def __call__(self, x) -> None:\n",
    "        self.out = x.view(x.shape[0], -1)\n",
    "        return self.out\n",
    "    \n",
    "    def parameters(self):\n",
    "        return []"
   ]
  },
  {
   "cell_type": "markdown",
   "metadata": {},
   "source": [
    "Now, we can get rid of the `C` matrix and `embeddings.view()` method, and define these two classes inside the layers list:"
   ]
  },
  {
   "cell_type": "code",
   "execution_count": 56,
   "metadata": {},
   "outputs": [],
   "source": [
    "n_emb = 10\n",
    "n_hidden = 200\n",
    "\n",
    "layers = [\n",
    "    Embedding(vocab_size, n_emb),\n",
    "    Flatten(),\n",
    "    Linear(n_emb * block_size, n_hidden, bias=False), \n",
    "    BatchNorm1d(n_hidden), \n",
    "    Tanh(), \n",
    "    Linear(n_hidden, vocab_size)\n",
    "]\n",
    "\n",
    "with torch.no_grad():\n",
    "    layers[-1].weight *= 0.1 # Make the last layer less confident\n",
    "\n",
    "parameters = [ p for layer in layers for p in layer.parameters() ] # No need to add 'C' in this list, bcoz it's included\n",
    "for p in parameters:\n",
    "    p.requires_grad = True"
   ]
  },
  {
   "cell_type": "markdown",
   "metadata": {},
   "source": [
    "We can get rid of those two lines in the training loop also:"
   ]
  },
  {
   "cell_type": "code",
   "execution_count": 57,
   "metadata": {},
   "outputs": [
    {
     "name": "stdout",
     "output_type": "stream",
     "text": [
      "3.313666343688965\n"
     ]
    }
   ],
   "source": [
    "epochs = 10_000\n",
    "batch_size = 32\n",
    "lossi = [ ]\n",
    "\n",
    "for i in range(epochs):\n",
    "\n",
    "    ix = torch.randint(0, X_train.shape[0], (batch_size, ))\n",
    "    x_batch, y_batch = X_train[ix], Y_train[ix]\n",
    "\n",
    "    x = x_batch # Added this line to pass the x_batch as input to the layers\n",
    "    for layer in layers:\n",
    "        x = layer(x)\n",
    "\n",
    "    loss = F.cross_entropy(x, y_batch)\n",
    "\n",
    "    for p in parameters:\n",
    "        p.grad = None\n",
    "\n",
    "    loss.backward()\n",
    "\n",
    "    for p in parameters:\n",
    "        p.data -= 0.01 * p.grad\n",
    "\n",
    "    break\n",
    "\n",
    "print(loss.item())"
   ]
  },
  {
   "cell_type": "markdown",
   "metadata": {},
   "source": [
    "We can do even better! Instead of defining the `layers` list and then looping over it in the loop, we can define a class that does it for us. We define container classes, such as `Sequential` or `Module`, which are also present in the PyTorch's `nn` module. Since we want to iterate over the layers sequentially, we will define the `Sequential` class."
   ]
  },
  {
   "cell_type": "code",
   "execution_count": 63,
   "metadata": {},
   "outputs": [],
   "source": [
    "class Sequential:\n",
    "    def __init__(self, layers):\n",
    "        self.layers = layers\n",
    "\n",
    "    def __call__(self, x):\n",
    "        for layer in self.layers:\n",
    "            x = layer(x)\n",
    "        \n",
    "        self.out = x\n",
    "        return self.out\n",
    "    \n",
    "    def parameters(self):\n",
    "        return [p for layer in self.layers for p in layer.parameters()]"
   ]
  },
  {
   "cell_type": "markdown",
   "metadata": {},
   "source": [
    "Now, our model definition and training loop simplifies even more:"
   ]
  },
  {
   "cell_type": "code",
   "execution_count": 67,
   "metadata": {},
   "outputs": [],
   "source": [
    "n_emb = 10\n",
    "n_hidden = 200\n",
    "\n",
    "model = Sequential([\n",
    "    Embedding(vocab_size, n_emb),\n",
    "    Flatten(),\n",
    "    Linear(n_emb * block_size, n_hidden, bias=False), \n",
    "    BatchNorm1d(n_hidden), \n",
    "    Tanh(), \n",
    "    Linear(n_hidden, vocab_size)\n",
    "])\n",
    "\n",
    "with torch.no_grad():\n",
    "    model.layers[-1].weight *= 0.1 # Make the last layer less confident\n",
    "\n",
    "parameters = model.parameters()\n",
    "for p in parameters:\n",
    "    p.requires_grad = True\n"
   ]
  },
  {
   "cell_type": "code",
   "execution_count": 69,
   "metadata": {},
   "outputs": [
    {
     "name": "stdout",
     "output_type": "stream",
     "text": [
      "3.285482883453369\n"
     ]
    }
   ],
   "source": [
    "epochs = 10_000\n",
    "batch_size = 32\n",
    "lossi = [ ]\n",
    "\n",
    "for i in range(epochs):\n",
    "\n",
    "    ix = torch.randint(0, X_train.shape[0], (batch_size, ))\n",
    "    x_batch, y_batch = X_train[ix], Y_train[ix]\n",
    "\n",
    "    logits = model(x_batch)\n",
    "    loss = F.cross_entropy(logits, y_batch)\n",
    "\n",
    "    for p in parameters:\n",
    "        p.grad = None\n",
    "\n",
    "    loss.backward()\n",
    "\n",
    "    for p in parameters:\n",
    "        p.data -= 0.01 * p.grad\n",
    "\n",
    "    break\n",
    "\n",
    "print(loss.item())"
   ]
  },
  {
   "cell_type": "markdown",
   "metadata": {},
   "source": [
    "For inference, however, we need to set that each of the layers are not in training mode. Remember how the batch normalization layer has a different behavior when it is in training mode as compared to in testing mode?"
   ]
  },
  {
   "cell_type": "code",
   "execution_count": 70,
   "metadata": {},
   "outputs": [],
   "source": [
    "# Set \"evaluation\" mode for each layer\n",
    "for layer in model.layers:\n",
    "    layer.training = False"
   ]
  },
  {
   "cell_type": "code",
   "execution_count": 71,
   "metadata": {},
   "outputs": [],
   "source": [
    "@torch.no_grad()\n",
    "def split_loss(split):\n",
    "    x, y = {\n",
    "        'train': [X_train, Y_train], \n",
    "        'test': [X_test, Y_test], \n",
    "        'val': [X_val, Y_val]\n",
    "    }[split]\n",
    "\n",
    "    logits = model(x)\n",
    "\n",
    "    loss = F.cross_entropy(logits, y) # PyTorch will apply softmax internally\n",
    "\n",
    "    print(f\"For {split}, loss was: {loss.item()}\")"
   ]
  },
  {
   "cell_type": "markdown",
   "metadata": {},
   "source": [
    "Sampling from the model also simplifies:"
   ]
  },
  {
   "cell_type": "code",
   "execution_count": 76,
   "metadata": {},
   "outputs": [
    {
     "name": "stdout",
     "output_type": "stream",
     "text": [
      "oszeezxzkzopvpvyqiienjytrklcbpgmykxluu.\n",
      ".\n",
      "bwdit.\n",
      "djswv.\n",
      "rsewg.\n",
      "iat.\n",
      "ixlcebimytygshgv.\n",
      "zmzaexnablmsydfqpxoqyhvhylgwchguovw.\n",
      "xmkrhdpkymssxzcvasfrnqhrjxofaqrzconoo.\n",
      "puufzecwrovytavbbwssmzsnv.\n",
      "ojykljozjfiqqmizlfamwrrmpuoornmuxtkklzqgcpptfrssouwzvbkfntlca.\n",
      "txufgherhqtxnhirhbjamhvmr.\n",
      "ryjtdcnlenebpsympnujprgfgvowtuxblvosbadgwceursj.\n",
      "dazmkkbqg.\n",
      "yymtqbnxieuvefjbdecwcefhzdjrefvhlfvoyi.\n",
      "oqvwqzebdnccoypxunqqykvgpgdsxefwgsvzigcdtlbx.\n",
      "cphykamwuijubkswgvldegslvfogqeaax.\n",
      "vtctjosmxupgdukrnyq.\n",
      "jcjebdzghq.\n",
      "hfdovvupkuehkehqtskoqs.\n"
     ]
    }
   ],
   "source": [
    "for _ in range(20):\n",
    "    out = [ ]\n",
    "    context = [ 0 ] * block_size\n",
    "\n",
    "    while True:\n",
    "        logits = model(torch.tensor([context]))\n",
    "        probabilities = F.softmax(logits, dim=1)\n",
    "\n",
    "        ix = torch.multinomial(probabilities, num_samples=1).item()\n",
    "\n",
    "        context = context[1:] + [ix]\n",
    "        out.append(ix)\n",
    "\n",
    "        if ix == 0:\n",
    "            break\n",
    "    print(''.join(itos[i] for i in out))"
   ]
  }
 ],
 "metadata": {
  "kernelspec": {
   "display_name": "makemore",
   "language": "python",
   "name": "python3"
  },
  "language_info": {
   "codemirror_mode": {
    "name": "ipython",
    "version": 3
   },
   "file_extension": ".py",
   "mimetype": "text/x-python",
   "name": "python",
   "nbconvert_exporter": "python",
   "pygments_lexer": "ipython3",
   "version": "3.11.10"
  }
 },
 "nbformat": 4,
 "nbformat_minor": 2
}
