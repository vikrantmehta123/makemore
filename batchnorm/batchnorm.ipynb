{
 "cells": [
  {
   "cell_type": "markdown",
   "metadata": {},
   "source": [
    "# Makemore Part 3"
   ]
  },
  {
   "cell_type": "markdown",
   "metadata": {},
   "source": [
    "## Implementing a Language Model from Scratch:"
   ]
  },
  {
   "cell_type": "markdown",
   "metadata": {},
   "source": [
    "In this notebook, I have tried to implement the part 3 of Andrej Karpathy's `Makemore` series, and my notes from the lecture."
   ]
  },
  {
   "cell_type": "code",
   "execution_count": 2,
   "metadata": {},
   "outputs": [],
   "source": [
    "# imports\n",
    "import torch\n",
    "import matplotlib.pyplot as plt\n",
    "import torch.nn.functional as F\n",
    "%matplotlib inline"
   ]
  },
  {
   "cell_type": "code",
   "execution_count": 3,
   "metadata": {},
   "outputs": [
    {
     "data": {
      "text/plain": [
       "(32033,\n",
       " ['emma', 'olivia', 'ava', 'isabella', 'sophia', 'charlotte', 'mia', 'amelia'])"
      ]
     },
     "execution_count": 3,
     "metadata": {},
     "output_type": "execute_result"
    }
   ],
   "source": [
    "# Read Data\n",
    "words = open(r'../names.txt', 'r').read().splitlines()\n",
    "len(words), words[:8]"
   ]
  },
  {
   "cell_type": "code",
   "execution_count": 4,
   "metadata": {},
   "outputs": [
    {
     "name": "stdout",
     "output_type": "stream",
     "text": [
      "itos:  {1: 'a', 2: 'b', 3: 'c', 4: 'd', 5: 'e', 6: 'f', 7: 'g', 8: 'h', 9: 'i', 10: 'j', 11: 'k', 12: 'l', 13: 'm', 14: 'n', 15: 'o', 16: 'p', 17: 'q', 18: 'r', 19: 's', 20: 't', 21: 'u', 22: 'v', 23: 'w', 24: 'x', 25: 'y', 26: 'z', 0: '.'}\n",
      "Vocab Size is:  27\n"
     ]
    }
   ],
   "source": [
    "# Building vocabulary and Basic Character encoding and decoding\n",
    "\n",
    "chars = sorted(list(set(''.join(words)))) # Get all the unique chars in sorted order\n",
    "\n",
    "stoi = {s:i+1 for i, s in enumerate(chars)}\n",
    "stoi['.'] = 0\n",
    "itos = {i:s for s, i in stoi.items()}\n",
    "vocab_size = len(itos)\n",
    "print(\"itos: \", itos)\n",
    "print(\"Vocab Size is: \", vocab_size)"
   ]
  },
  {
   "cell_type": "markdown",
   "metadata": {},
   "source": [
    "### Building the Dataset\n",
    "\n",
    "Since this is a character level language model, we will be predicting the next in a sequence of some `block_size` elements. That is, if `block_size=3`, then our model will be predicting the fourth letter in a sequence of three characters. You can think of block size as the context length."
   ]
  },
  {
   "cell_type": "code",
   "execution_count": 5,
   "metadata": {},
   "outputs": [],
   "source": [
    "block_size = 3 \n",
    "\n",
    "def build_dataset(words):\n",
    "    X, Y = [ ], [ ]\n",
    "\n",
    "    for w in words:\n",
    "        context = [0] * block_size # For start of the word, have a padded context\n",
    "        for char in w + \".\":\n",
    "            idx = stoi[char]\n",
    "            X.append(context)\n",
    "            Y.append(idx)\n",
    "\n",
    "            context = context[1:] + [idx]\n",
    "\n",
    "    X = torch.tensor(X)\n",
    "    Y = torch.tensor(Y)\n",
    "\n",
    "    return X, Y"
   ]
  },
  {
   "cell_type": "code",
   "execution_count": 6,
   "metadata": {},
   "outputs": [
    {
     "name": "stdout",
     "output_type": "stream",
     "text": [
      "Train sizes:  torch.Size([182625, 3]) torch.Size([182625])\n",
      "Validation Sizes:  torch.Size([22655, 3]) torch.Size([22655])\n",
      "Test Sizes:  torch.Size([22866, 3]) torch.Size([22866])\n"
     ]
    }
   ],
   "source": [
    "import random\n",
    "\n",
    "random.seed(42)\n",
    "random.shuffle(words)\n",
    "\n",
    "n1 = int(0.8*len(words))\n",
    "n2 = int(0.9*len(words))\n",
    "\n",
    "X_train, Y_train = build_dataset(words=words[:n1])\n",
    "X_val, Y_val = build_dataset(words=words[n1:n2])\n",
    "X_test, Y_test = build_dataset(words=words[n2:])\n",
    "\n",
    "print(\"Train sizes: \", X_train.shape, Y_train.shape)\n",
    "print(\"Validation Sizes: \", X_val.shape, Y_val.shape)\n",
    "print(\"Test Sizes: \", X_test.shape, Y_test.shape)"
   ]
  },
  {
   "cell_type": "markdown",
   "metadata": {},
   "source": [
    "### Revisiting MLP Code"
   ]
  },
  {
   "cell_type": "code",
   "execution_count": 8,
   "metadata": {},
   "outputs": [
    {
     "name": "stdout",
     "output_type": "stream",
     "text": [
      "Total Parameters:  11897\n"
     ]
    }
   ],
   "source": [
    "n_embd = 10 # the dimensionality of the character embedding vectors\n",
    "n_hidden = 200 # the number of neurons in the hidden layer of the MLP\n",
    "\n",
    "g = torch.Generator().manual_seed(2147483647) # for reproducibility\n",
    "C  = torch.randn((vocab_size, n_embd),            generator=g)\n",
    "W1 = torch.randn((n_embd * block_size, n_hidden), generator=g)\n",
    "b1 = torch.randn(n_hidden,                        generator=g) \n",
    "W2 = torch.randn((n_hidden, vocab_size),          generator=g) \n",
    "b2 = torch.randn(vocab_size,                      generator=g)\n",
    "\n",
    "\n",
    "parameters = [C, W1, b1, W2, b2]\n",
    "print(\"Total Parameters: \", sum(p.nelement() for p in parameters)) # number of parameters in total\n",
    "for p in parameters:\n",
    "  p.requires_grad = True"
   ]
  },
  {
   "cell_type": "code",
   "execution_count": 8,
   "metadata": {},
   "outputs": [
    {
     "name": "stdout",
     "output_type": "stream",
     "text": [
      "      0/  20000: 27.8817\n",
      "   1000/  20000: 4.2419\n",
      "   2000/  20000: 2.9765\n",
      "   3000/  20000: 2.9278\n",
      "   4000/  20000: 2.2592\n",
      "   5000/  20000: 2.3338\n",
      "   6000/  20000: 2.3778\n",
      "   7000/  20000: 2.6701\n",
      "   8000/  20000: 2.4029\n",
      "   9000/  20000: 2.5651\n",
      "  10000/  20000: 2.8244\n",
      "  11000/  20000: 1.8802\n",
      "  12000/  20000: 2.1443\n",
      "  13000/  20000: 2.1793\n",
      "  14000/  20000: 2.8686\n",
      "  15000/  20000: 2.1322\n",
      "  16000/  20000: 2.3923\n",
      "  17000/  20000: 2.4342\n",
      "  18000/  20000: 2.2146\n",
      "  19000/  20000: 2.3063\n"
     ]
    }
   ],
   "source": [
    "epochs = 20000\n",
    "batch_size = 32\n",
    "lossi = [ ]\n",
    "\n",
    "for i in range(epochs):\n",
    "\n",
    "    # Construct the minibatch\n",
    "    idxs = torch.randint(0, X_train.shape[0], (batch_size, ), generator=g)\n",
    "    X_batch, y_batch = X_train[idxs], Y_train[idxs]\n",
    "\n",
    "    # Forward pass\n",
    "    embeddings = C[X_batch]\n",
    "    concatenated_embeddings = embeddings.view(embeddings.shape[0], -1) # Concatenate the embeddings\n",
    "    preactivations = concatenated_embeddings @ W1 + b1\n",
    "    activations = torch.tanh(preactivations)\n",
    "    logits = activations @ W2 + b2 # Output layer\n",
    "\n",
    "    loss = F.cross_entropy(logits, y_batch) # PyTorch will apply softmax internally\n",
    "\n",
    "    for p in parameters:\n",
    "        p.grad = None\n",
    "\n",
    "    loss.backward()\n",
    "\n",
    "    lr = 0.1 if i < 10_000 else 0.01\n",
    "\n",
    "    for p in parameters:\n",
    "        p.data -= lr * p.grad\n",
    "\n",
    "    if i % 1000 == 0:\n",
    "        print(f\"{i:7d}/{epochs:7d}: {loss.item():.4f}\")\n",
    "    lossi.append(loss.log10().item())"
   ]
  },
  {
   "cell_type": "code",
   "execution_count": 9,
   "metadata": {},
   "outputs": [
    {
     "data": {
      "text/plain": [
       "[<matplotlib.lines.Line2D at 0x228cc018210>]"
      ]
     },
     "execution_count": 9,
     "metadata": {},
     "output_type": "execute_result"
    },
    {
     "data": {
      "image/png": "[encoded data removed]",
      "text/plain": [
       "<Figure size 640x480 with 1 Axes>"
      ]
     },
     "metadata": {},
     "output_type": "display_data"
    }
   ],
   "source": [
    "plt.plot(lossi)"
   ]
  },
  {
   "cell_type": "code",
   "execution_count": 12,
   "metadata": {},
   "outputs": [],
   "source": [
    "@torch.no_grad()\n",
    "def split_loss(split):\n",
    "    x, y = {\n",
    "        'train': [X_train, Y_train], \n",
    "        'test': [X_test, Y_test], \n",
    "        'val': [X_val, Y_val]\n",
    "    }[split]\n",
    "\n",
    "    embeddings = C[x]\n",
    "    concatenated_embeddings = embeddings.view(embeddings.shape[0], -1)\n",
    "    preactivations = concatenated_embeddings @ W1 + b1\n",
    "    activations = torch.tanh(preactivations)\n",
    "    logits = activations @ W2 + b2 # Output layer\n",
    "\n",
    "    loss = F.cross_entropy(logits, y) # PyTorch will apply softmax internally\n",
    "\n",
    "    print(f\"For {split}, loss was: {loss.item()}\")"
   ]
  },
  {
   "cell_type": "code",
   "execution_count": null,
   "metadata": {},
   "outputs": [
    {
     "name": "stdout",
     "output_type": "stream",
     "text": [
      "For train, loss was: 2.309889316558838\n",
      "For val, loss was: 2.323052406311035\n"
     ]
    }
   ],
   "source": [
    "split_loss('train')\n",
    "split_loss('val')"
   ]
  },
  {
   "cell_type": "markdown",
   "metadata": {},
   "source": [
    "##### Predictions Using the Model"
   ]
  },
  {
   "cell_type": "code",
   "execution_count": 11,
   "metadata": {},
   "outputs": [
    {
     "name": "stdout",
     "output_type": "stream",
     "text": [
      "mri.\n",
      "almyah.\n",
      "see.\n",
      "madheyah.\n",
      "rehmancendra.\n",
      "graderedielii.\n",
      "shy.\n",
      "jen.\n",
      "ede.\n",
      "sestanar.\n",
      "katelostter.\n",
      "noshibergahimies.\n",
      "kinde.\n",
      "jelionn.\n",
      "puor.\n",
      "uzzeyne.\n",
      "ryy.\n",
      "julieh.\n",
      "ylue.\n",
      "masteyah.\n"
     ]
    }
   ],
   "source": [
    "g = torch.Generator().manual_seed(2147483647 + 10)\n",
    "\n",
    "for _ in range(20):\n",
    "    out = [ ]\n",
    "    context = [0] * block_size\n",
    "\n",
    "    while True:\n",
    "\n",
    "        embeddings = C[torch.tensor([context])]\n",
    "        h = torch.tanh(embeddings.view(1, -1) @ W1  + b1)\n",
    "        logits = h @ W2 + b2\n",
    "        probs = F.softmax(logits, dim=1)\n",
    "\n",
    "        idx = torch.multinomial(probs, num_samples=1, generator=g).item()\n",
    "\n",
    "        context = context[1:] + [idx]\n",
    "\n",
    "        out.append(idx)\n",
    "\n",
    "        if idx == 0:\n",
    "            break\n",
    "\n",
    "    print(\"\".join(itos[i] for i in out))"
   ]
  },
  {
   "cell_type": "markdown",
   "metadata": {},
   "source": [
    "**Pro Tip:**\n",
    "\n",
    "When training neural networks, you should always have a rough intuition of what the loss should be at initialization. Think in terms of what the problem is and what the model setup is to get an idea of this. Do some research online also. For example, in the MLP case, **at initialization**, we don't have any reason to believe that our model should assign higher probability to any of the characters. Thus, initially, the probabilities assigned to each character should be equal- $1/27$. Since the loss is negative log likelihood, the loss we should expect at initialization is: $-torch.tensor(1/27.0).log()=3.295$"
   ]
  },
  {
   "cell_type": "markdown",
   "metadata": {},
   "source": [
    "### Better Initialization"
   ]
  },
  {
   "cell_type": "markdown",
   "metadata": {},
   "source": [
    "Notice how the actual loss is way worse than the expected loss. So, there's something wrong with the initialization. Ideally, we want the `logits` ( the final layer values before we apply softmax ) to be roughly equal for all characters, because that will give us roughly uniform probabilities for all characters, i.e. the loss that we expect. At the moment, the logits are taking extreme values which is giving high initial loss. See the below cell for an example of this."
   ]
  },
  {
   "cell_type": "code",
   "execution_count": 12,
   "metadata": {},
   "outputs": [
    {
     "name": "stdout",
     "output_type": "stream",
     "text": [
      "Loss:  28.149959564208984\n",
      "Logits:  tensor([  0.3833,  -0.9662,   4.8501,   0.2882,  10.2159,  -5.0392,  -7.2439,\n",
      "        -19.5775,  11.4931,   7.8832, -10.7001,   4.9914, -35.7654,   5.5013,\n",
      "          2.9127,  15.7696,   3.0974,  -5.5875, -15.2168,   2.1749,   2.5613,\n",
      "          9.4574,  18.6816, -15.0341,   1.1712,  21.4299,  -8.5857],\n",
      "       grad_fn=<SelectBackward0>)\n"
     ]
    }
   ],
   "source": [
    "C  = torch.randn((vocab_size, n_embd),            generator=g)\n",
    "W1 = torch.randn((n_embd * block_size, n_hidden), generator=g)\n",
    "b1 = torch.randn(n_hidden,                        generator=g) \n",
    "W2 = torch.randn((n_hidden, vocab_size),          generator=g) \n",
    "b2 = torch.randn(vocab_size,                      generator=g)\n",
    "\n",
    "parameters = [C, W1, b1, W2, b2]\n",
    "for p in parameters:\n",
    "  p.requires_grad = True\n",
    "\n",
    "epochs = 1\n",
    "batch_size = 32\n",
    "lossi = [ ]\n",
    "\n",
    "for i in range(epochs):\n",
    "\n",
    "    # Construct the minibatch\n",
    "    idxs = torch.randint(0, X_train.shape[0], (batch_size, ), generator=g)\n",
    "    X_batch, y_batch = X_train[idxs], Y_train[idxs]\n",
    "\n",
    "    # Forward pass\n",
    "    embeddings = C[X_batch]\n",
    "    concatenated_embeddings = embeddings.view(embeddings.shape[0], -1) # Concatenate the embeddings\n",
    "    preactivations = concatenated_embeddings @ W1 + b1\n",
    "    activations = torch.tanh(preactivations)\n",
    "    logits = activations @ W2 + b2 # Output layer\n",
    "\n",
    "    loss = F.cross_entropy(logits, y_batch) # PyTorch will apply softmax internally\n",
    "\n",
    "    for p in parameters:\n",
    "        p.grad = None\n",
    "\n",
    "    loss.backward()\n",
    "\n",
    "    lr = 0.1 if i < 10_000 else 0.01\n",
    "\n",
    "    for p in parameters:\n",
    "        p.data -= lr * p.grad\n",
    "\n",
    "print(\"Loss: \", loss.item())\n",
    "print(\"Logits: \", logits[0])"
   ]
  },
  {
   "cell_type": "markdown",
   "metadata": {},
   "source": [
    "#### How to Get Logits Closer to Zero?\n",
    "\n",
    "Since `logits = activations * W2 + b2`, we can reduce the values of $b2 and W2$ at initialization so that logits don't take randomly extreme values."
   ]
  },
  {
   "cell_type": "code",
   "execution_count": 13,
   "metadata": {},
   "outputs": [
    {
     "name": "stdout",
     "output_type": "stream",
     "text": [
      "Loss:  3.306351661682129\n"
     ]
    }
   ],
   "source": [
    "C = torch.randn((vocab_size, n_embd),            generator=g)\n",
    "W1 = torch.randn((n_embd * block_size, n_hidden), generator=g)\n",
    "b1 = torch.randn(n_hidden,                        generator=g)\n",
    "W2 = torch.randn((n_hidden, vocab_size),          generator=g) * 0.01 # Make W2 smaller\n",
    "b2 = torch.randn(vocab_size,                      generator=g) * 0.0 # Make b2 smaller\n",
    "\n",
    "parameters = [C, W1, b1, W2, b2]\n",
    "for p in parameters:\n",
    "    p.requires_grad = True\n",
    "\n",
    "epochs = 1\n",
    "batch_size = 32\n",
    "lossi = []\n",
    "\n",
    "for i in range(epochs):\n",
    "\n",
    "    # Construct the minibatch\n",
    "    idxs = torch.randint(0, X_train.shape[0], (batch_size, ), generator=g)\n",
    "    X_batch, y_batch = X_train[idxs], Y_train[idxs]\n",
    "\n",
    "    # Forward pass\n",
    "    embeddings = C[X_batch]\n",
    "    concatenated_embeddings = embeddings.view(\n",
    "        embeddings.shape[0], -1)  # Concatenate the embeddings\n",
    "    preactivations = concatenated_embeddings @ W1 + b1\n",
    "    activations = torch.tanh(preactivations)\n",
    "    logits = activations @ W2 + b2  # Output layer\n",
    "\n",
    "    # PyTorch will apply softmax internally\n",
    "    loss = F.cross_entropy(logits, y_batch)\n",
    "\n",
    "    for p in parameters:\n",
    "        p.grad = None\n",
    "\n",
    "    loss.backward()\n",
    "\n",
    "    lr = 0.1 if i < 10_000 else 0.01\n",
    "\n",
    "    for p in parameters:\n",
    "        p.data -= lr * p.grad\n",
    "\n",
    "print(\"Loss: \", loss.item())"
   ]
  },
  {
   "cell_type": "markdown",
   "metadata": {},
   "source": [
    "The loss is much closer to what we expect. \n",
    "\n",
    "But **Pro Tip:** You don't want the weights of the neural net to be zero. You want them to be small but not zero."
   ]
  },
  {
   "cell_type": "markdown",
   "metadata": {},
   "source": [
    "Let's let the training run to see how loss behaves now with this improved initialization."
   ]
  },
  {
   "cell_type": "code",
   "execution_count": 14,
   "metadata": {},
   "outputs": [
    {
     "name": "stdout",
     "output_type": "stream",
     "text": [
      "      0/  20000: 3.3107"
     ]
    },
    {
     "name": "stdout",
     "output_type": "stream",
     "text": [
      "\n",
      "   1000/  20000: 2.5355\n",
      "   2000/  20000: 2.4904\n",
      "   3000/  20000: 2.4003\n",
      "   4000/  20000: 2.7225\n",
      "   5000/  20000: 2.6738\n",
      "   6000/  20000: 1.9511\n",
      "   7000/  20000: 2.4856\n",
      "   8000/  20000: 2.1792\n",
      "   9000/  20000: 2.0987\n",
      "  10000/  20000: 2.3935\n",
      "  11000/  20000: 2.1975\n",
      "  12000/  20000: 2.2624\n",
      "  13000/  20000: 2.1243\n",
      "  14000/  20000: 1.8139\n",
      "  15000/  20000: 2.2433\n",
      "  16000/  20000: 1.9484\n",
      "  17000/  20000: 1.9300\n",
      "  18000/  20000: 2.0046\n",
      "  19000/  20000: 2.2269\n",
      "Loss:  1.7531856298446655\n"
     ]
    }
   ],
   "source": [
    "C = torch.randn((vocab_size, n_embd),            generator=g)\n",
    "W1 = torch.randn((n_embd * block_size, n_hidden), generator=g)\n",
    "b1 = torch.randn(n_hidden,                        generator=g)\n",
    "W2 = torch.randn((n_hidden, vocab_size),          generator=g) * 0.01 # Make W2 smaller\n",
    "b2 = torch.randn(vocab_size,                      generator=g) * 0.0 # Make b2 smaller\n",
    "\n",
    "parameters = [C, W1, b1, W2, b2]\n",
    "for p in parameters:\n",
    "    p.requires_grad = True\n",
    "\n",
    "epochs = 20_000\n",
    "batch_size = 32\n",
    "lossi = []\n",
    "\n",
    "for i in range(epochs):\n",
    "\n",
    "    # Construct the minibatch\n",
    "    idxs = torch.randint(0, X_train.shape[0], (batch_size, ), generator=g)\n",
    "    X_batch, y_batch = X_train[idxs], Y_train[idxs]\n",
    "\n",
    "    # Forward pass\n",
    "    embeddings = C[X_batch]\n",
    "    concatenated_embeddings = embeddings.view(\n",
    "        embeddings.shape[0], -1)  # Concatenate the embeddings\n",
    "    preactivations = concatenated_embeddings @ W1 + b1\n",
    "    activations = torch.tanh(preactivations)\n",
    "    logits = activations @ W2 + b2  # Output layer\n",
    "\n",
    "    # PyTorch will apply softmax internally\n",
    "    loss = F.cross_entropy(logits, y_batch)\n",
    "\n",
    "    for p in parameters:\n",
    "        p.grad = None\n",
    "\n",
    "    loss.backward()\n",
    "\n",
    "    lr = 0.1 if i < 10_000 else 0.01\n",
    "\n",
    "    for p in parameters:\n",
    "        p.data -= lr * p.grad\n",
    "\n",
    "    if i % 1000 == 0:\n",
    "        print(f\"{i:7d}/{epochs:7d}: {loss.item():.4f}\")\n",
    "    lossi.append(loss.log10().item())\n",
    "\n",
    "print(\"Loss: \", loss.item())"
   ]
  },
  {
   "cell_type": "code",
   "execution_count": 15,
   "metadata": {},
   "outputs": [
    {
     "data": {
      "text/plain": [
       "[<matplotlib.lines.Line2D at 0x228cd28a790>]"
      ]
     },
     "execution_count": 15,
     "metadata": {},
     "output_type": "execute_result"
    },
    {
     "data": {
      "image/png": "[encoded data removed]",
      "text/plain": [
       "<Figure size 640x480 with 1 Axes>"
      ]
     },
     "metadata": {},
     "output_type": "display_data"
    }
   ],
   "source": [
    "plt.plot(lossi)"
   ]
  },
  {
   "cell_type": "code",
   "execution_count": 16,
   "metadata": {},
   "outputs": [
    {
     "name": "stdout",
     "output_type": "stream",
     "text": [
      "For train, loss was: 2.170548677444458\n",
      "For val, loss was: 2.1972811222076416\n"
     ]
    },
    {
     "data": {
      "text/plain": [
       "(None, None)"
      ]
     },
     "execution_count": 16,
     "metadata": {},
     "output_type": "execute_result"
    }
   ],
   "source": [
    "split_loss('train'), split_loss('val')"
   ]
  },
  {
   "cell_type": "markdown",
   "metadata": {},
   "source": [
    "The previous loss was around 2.3 and now it is slightly improved. Think about this: In the initial epochs, the model was squishing down the values of W2 and b2 and that was wasting epochs. But now, since we've already initialized them to lower values, these initial epochs are not wasted- as evidenced by the two loss plots."
   ]
  },
  {
   "cell_type": "markdown",
   "metadata": {},
   "source": [
    "### Improving Tanh"
   ]
  },
  {
   "cell_type": "code",
   "execution_count": 17,
   "metadata": {},
   "outputs": [
    {
     "name": "stdout",
     "output_type": "stream",
     "text": [
      "activations:  tensor([[-0.9962, -0.2811, -0.9994,  ..., -0.9861,  0.9815, -0.8938],\n",
      "        [ 0.9927, -0.0759, -0.9968,  ..., -1.0000, -1.0000,  0.9782],\n",
      "        [ 1.0000, -0.9994,  0.8448,  ...,  0.9999,  0.9756,  0.9638],\n",
      "        ...,\n",
      "        [-0.9999,  0.9988, -1.0000,  ...,  0.6431, -0.0060, -0.9988],\n",
      "        [ 0.7632,  0.9706, -0.9625,  ..., -1.0000, -0.9768, -0.1925],\n",
      "        [-0.9649, -0.8281,  0.9957,  ..., -0.8579, -0.9918, -0.9999]],\n",
      "       grad_fn=<TanhBackward0>)\n"
     ]
    }
   ],
   "source": [
    "C  = torch.randn((vocab_size, n_embd),            generator=g)\n",
    "W1 = torch.randn((n_embd * block_size, n_hidden), generator=g)\n",
    "b1 = torch.randn(n_hidden,                        generator=g) \n",
    "W2 = torch.randn((n_hidden, vocab_size),          generator=g) \n",
    "b2 = torch.randn(vocab_size,                      generator=g)\n",
    "\n",
    "parameters = [C, W1, b1, W2, b2]\n",
    "for p in parameters:\n",
    "  p.requires_grad = True\n",
    "\n",
    "epochs = 1\n",
    "batch_size = 32\n",
    "lossi = [ ]\n",
    "\n",
    "for i in range(epochs):\n",
    "\n",
    "    # Construct the minibatch\n",
    "    idxs = torch.randint(0, X_train.shape[0], (batch_size, ), generator=g)\n",
    "    X_batch, y_batch = X_train[idxs], Y_train[idxs]\n",
    "\n",
    "    # Forward pass\n",
    "    embeddings = C[X_batch]\n",
    "    concatenated_embeddings = embeddings.view(embeddings.shape[0], -1) # Concatenate the embeddings\n",
    "    preactivations = concatenated_embeddings @ W1 + b1\n",
    "    activations = torch.tanh(preactivations)\n",
    "    logits = activations @ W2 + b2 # Output layer\n",
    "\n",
    "    loss = F.cross_entropy(logits, y_batch) # PyTorch will apply softmax internally\n",
    "\n",
    "    for p in parameters:\n",
    "        p.grad = None\n",
    "\n",
    "    loss.backward()\n",
    "\n",
    "    lr = 0.1 if i < 10_000 else 0.01\n",
    "\n",
    "    for p in parameters:\n",
    "        p.data -= lr * p.grad\n",
    "\n",
    "    break\n",
    "\n",
    "print(\"activations: \", activations)"
   ]
  },
  {
   "cell_type": "code",
   "execution_count": 18,
   "metadata": {},
   "outputs": [
    {
     "data": {
      "text/plain": [
       "(array([65.,  5.,  1.,  1.,  3.,  4.,  1.,  1.,  1.,  0.,  1.,  0.,  0.,\n",
       "         1.,  0.,  0.,  0.,  0.,  2.,  0.,  1.,  0.,  1.,  0.,  0.,  0.,\n",
       "         0.,  0.,  0.,  1.,  1.,  0.,  2.,  0.,  0.,  0.,  2.,  0.,  0.,\n",
       "         0.,  0.,  1.,  1.,  0.,  2.,  3.,  3.,  4.,  7., 85.]),\n",
       " array([-1.  , -0.96, -0.92, -0.88, -0.84, -0.8 , -0.76, -0.72, -0.68,\n",
       "        -0.64, -0.6 , -0.56, -0.52, -0.48, -0.44, -0.4 , -0.36, -0.32,\n",
       "        -0.28, -0.24, -0.2 , -0.16, -0.12, -0.08, -0.04,  0.  ,  0.04,\n",
       "         0.08,  0.12,  0.16,  0.2 ,  0.24,  0.28,  0.32,  0.36,  0.4 ,\n",
       "         0.44,  0.48,  0.52,  0.56,  0.6 ,  0.64,  0.68,  0.72,  0.76,\n",
       "         0.8 ,  0.84,  0.88,  0.92,  0.96,  1.  ]),\n",
       " <BarContainer object of 50 artists>)"
      ]
     },
     "execution_count": 18,
     "metadata": {},
     "output_type": "execute_result"
    },
    {
     "data": {
      "image/png": "[encoded data removed]",
      "text/plain": [
       "<Figure size 640x480 with 1 Axes>"
      ]
     },
     "metadata": {},
     "output_type": "display_data"
    }
   ],
   "source": [
    "plt.hist(h.view(-1).tolist(), 50)"
   ]
  },
  {
   "cell_type": "markdown",
   "metadata": {},
   "source": [
    "Most of the activations are at -1 or 1 at initialization. Remember the derivative of tanh? It was $(1-t**2)$. This means that when the activations are -1 or 1, then their gradient becomes zero. So, at initialization itself, these neurons become dead neurons. If the value of `t==0`, then you have maximum gradient, which is 1, i.e. the gradient just passes through. But in all other cases, the gradient decreases."
   ]
  },
  {
   "cell_type": "code",
   "execution_count": 19,
   "metadata": {},
   "outputs": [
    {
     "data": {
      "text/plain": [
       "<matplotlib.image.AxesImage at 0x228cd3c8910>"
      ]
     },
     "execution_count": 19,
     "metadata": {},
     "output_type": "execute_result"
    },
    {
     "data": {
      "image/png": "[encoded data removed]",
      "text/plain": [
       "<Figure size 2000x1000 with 1 Axes>"
      ]
     },
     "metadata": {},
     "output_type": "display_data"
    }
   ],
   "source": [
    "# White = True, Black = False\n",
    "plt.figure(figsize=(20, 10))\n",
    "plt.imshow(activations.abs() > 0.99, cmap='gray', interpolation='nearest')"
   ]
  },
  {
   "cell_type": "markdown",
   "metadata": {},
   "source": [
    "All the white cells represent the instances where the tanh is giving extreme values. X-axis is the number of neurons. Y-axis is the sample.\n",
    "If an entire column is white, that's a cause for big trouble. That means that for any of the input, the neuron didn't fire. If the neuron is not firing for any input, then it's a dead neuron.\n",
    "\n",
    "Sigmoid, Tanh, ReLU are neurons where such situation can occur. At times, this happens during initialization. At times, this happens during optimization- when your learning rate is too high, for instance.\n",
    "\n",
    "Here, at initialization, many neurons are not getting gradients, which is not good. So what can be done to improve on this?"
   ]
  },
  {
   "cell_type": "markdown",
   "metadata": {},
   "source": [
    "#### Better Preactivations\n",
    "\n",
    "The values of the preactivations are too extreme, that's what is being fed into the tanh and that is making the tanh go closer to -1 and 1. For instance, in the plot below, we see the values of preactivations are between [-20, 20], which is quite extreme. We can fix this by doing the same thing that we did for the activations- scale down the initial weights and biases."
   ]
  },
  {
   "cell_type": "code",
   "execution_count": 20,
   "metadata": {},
   "outputs": [
    {
     "data": {
      "text/plain": [
       "(array([  3.,   3.,   1.,   5.,   7.,   9.,  12.,  27.,  25.,  40.,  48.,\n",
       "         56.,  77., 108., 113., 134., 176., 275., 231., 308., 338., 358.,\n",
       "        391., 391., 392., 346., 381., 344., 301., 296., 231., 185., 189.,\n",
       "        147., 108.,  93.,  85.,  40.,  47.,  18.,  18.,  11.,   6.,  12.,\n",
       "          4.,   4.,   1.,   2.,   1.,   2.]),\n",
       " array([-17.19238853, -16.47425137, -15.7561142 , -15.03797703,\n",
       "        -14.31983986, -13.60170269, -12.88356552, -12.16542835,\n",
       "        -11.44729118, -10.72915401, -10.01101685,  -9.29287968,\n",
       "         -8.57474251,  -7.85660534,  -7.13846817,  -6.420331  ,\n",
       "         -5.70219383,  -4.98405666,  -4.26591949,  -3.54778233,\n",
       "         -2.82964516,  -2.11150799,  -1.39337082,  -0.67523365,\n",
       "          0.04290352,   0.76104069,   1.47917786,   2.19731503,\n",
       "          2.91545219,   3.63358936,   4.35172653,   5.0698637 ,\n",
       "          5.78800087,   6.50613804,   7.22427521,   7.94241238,\n",
       "          8.66054955,   9.37868671,  10.09682388,  10.81496105,\n",
       "         11.53309822,  12.25123539,  12.96937256,  13.68750973,\n",
       "         14.4056469 ,  15.12378407,  15.84192123,  16.5600584 ,\n",
       "         17.27819557,  17.99633274,  18.71446991]),\n",
       " <BarContainer object of 50 artists>)"
      ]
     },
     "execution_count": 20,
     "metadata": {},
     "output_type": "execute_result"
    },
    {
     "data": {
      "image/png": "[encoded data removed]",
      "text/plain": [
       "<Figure size 640x480 with 1 Axes>"
      ]
     },
     "metadata": {},
     "output_type": "display_data"
    }
   ],
   "source": [
    "plt.hist(preactivations.view(-1).tolist(), 50)"
   ]
  },
  {
   "cell_type": "code",
   "execution_count": 21,
   "metadata": {},
   "outputs": [],
   "source": [
    "C  = torch.randn((vocab_size, n_embd),            generator=g)\n",
    "W1 = torch.randn((n_embd * block_size, n_hidden), generator=g) * 0.1\n",
    "b1 = torch.randn(n_hidden,                        generator=g) * 0.01\n",
    "W2 = torch.randn((n_hidden, vocab_size),          generator=g) * 0.01\n",
    "b2 = torch.randn(vocab_size,                      generator=g) * 0\n",
    "\n",
    "parameters = [C, W1, b1, W2, b2]\n",
    "for p in parameters:\n",
    "  p.requires_grad = True\n",
    "\n",
    "epochs = 1\n",
    "batch_size = 32\n",
    "lossi = [ ]\n",
    "\n",
    "for i in range(epochs):\n",
    "\n",
    "    # Construct the minibatch\n",
    "    idxs = torch.randint(0, X_train.shape[0], (batch_size, ), generator=g)\n",
    "    X_batch, y_batch = X_train[idxs], Y_train[idxs]\n",
    "\n",
    "    # Forward pass\n",
    "    embeddings = C[X_batch]\n",
    "    concatenated_embeddings = embeddings.view(embeddings.shape[0], -1) # Concatenate the embeddings\n",
    "    preactivations = concatenated_embeddings @ W1 + b1\n",
    "    activations = torch.tanh(preactivations)\n",
    "    logits = activations @ W2 + b2 # Output layer\n",
    "\n",
    "    loss = F.cross_entropy(logits, y_batch) # PyTorch will apply softmax internally\n",
    "\n",
    "    for p in parameters:\n",
    "        p.grad = None\n",
    "\n",
    "    loss.backward()\n",
    "\n",
    "    lr = 0.1 if i < 10_000 else 0.01\n",
    "\n",
    "    for p in parameters:\n",
    "        p.data -= lr * p.grad\n",
    "\n",
    "    break"
   ]
  },
  {
   "cell_type": "code",
   "execution_count": 22,
   "metadata": {},
   "outputs": [
    {
     "data": {
      "text/plain": [
       "(array([  1.,   0.,   0.,   0.,   1.,   0.,   2.,   1.,   1.,   2.,  12.,\n",
       "          8.,  26.,  20.,  29.,  40.,  75., 105., 142., 173., 225., 286.,\n",
       "        291., 387., 415., 475., 487., 481., 462., 403., 406., 328., 289.,\n",
       "        231., 157., 115.,  90.,  71.,  64.,  32.,  18.,  13.,  13.,   9.,\n",
       "          7.,   4.,   1.,   1.,   0.,   1.]),\n",
       " array([-2.56114149, -2.46598917, -2.37083686, -2.27568454, -2.18053223,\n",
       "        -2.08537991, -1.99022759, -1.89507528, -1.79992296, -1.70477065,\n",
       "        -1.60961833, -1.51446601, -1.4193137 , -1.32416138, -1.22900907,\n",
       "        -1.13385675, -1.03870443, -0.94355212, -0.8483998 , -0.75324749,\n",
       "        -0.65809517, -0.56294285, -0.46779054, -0.37263822, -0.2774859 ,\n",
       "        -0.18233359, -0.08718127,  0.00797104,  0.10312336,  0.19827568,\n",
       "         0.29342799,  0.38858031,  0.48373262,  0.57888494,  0.67403726,\n",
       "         0.76918957,  0.86434189,  0.9594942 ,  1.05464652,  1.14979884,\n",
       "         1.24495115,  1.34010347,  1.43525578,  1.5304081 ,  1.62556042,\n",
       "         1.72071273,  1.81586505,  1.91101737,  2.00616968,  2.101322  ,\n",
       "         2.19647431]),\n",
       " <BarContainer object of 50 artists>)"
      ]
     },
     "execution_count": 22,
     "metadata": {},
     "output_type": "execute_result"
    },
    {
     "data": {
      "image/png": "[encoded data removed]",
      "text/plain": [
       "<Figure size 640x480 with 1 Axes>"
      ]
     },
     "metadata": {},
     "output_type": "display_data"
    }
   ],
   "source": [
    "\n",
    "plt.title(\"Preactivations\")\n",
    "plt.hist(preactivations.view(-1).tolist(), 50)\n"
   ]
  },
  {
   "cell_type": "code",
   "execution_count": 23,
   "metadata": {},
   "outputs": [
    {
     "data": {
      "text/plain": [
       "(array([  5.,  14.,  33.,  35.,  44.,  52.,  83.,  94., 113., 119., 113.,\n",
       "        136., 155., 142., 142., 140., 173., 188., 167., 197., 184., 197.,\n",
       "        199., 197., 201., 219., 201., 185., 210., 176., 182., 183., 172.,\n",
       "        185., 184., 174., 158., 146., 163., 124., 110., 102.,  82.,  81.,\n",
       "         70.,  71.,  41.,  28.,  23.,   7.]),\n",
       " array([-0.98814589, -0.9488715 , -0.90959711, -0.87032272, -0.83104833,\n",
       "        -0.79177394, -0.75249955, -0.71322516, -0.67395077, -0.63467638,\n",
       "        -0.59540199, -0.5561276 , -0.51685321, -0.47757882, -0.43830443,\n",
       "        -0.39903004, -0.35975565, -0.32048126, -0.28120687, -0.24193248,\n",
       "        -0.20265809, -0.1633837 , -0.12410931, -0.08483492, -0.04556053,\n",
       "        -0.00628614,  0.03298825,  0.07226264,  0.11153702,  0.15081141,\n",
       "         0.1900858 ,  0.22936019,  0.26863458,  0.30790897,  0.34718336,\n",
       "         0.38645775,  0.42573214,  0.46500653,  0.50428092,  0.54355531,\n",
       "         0.5828297 ,  0.62210409,  0.66137848,  0.70065287,  0.73992726,\n",
       "         0.77920165,  0.81847604,  0.85775043,  0.89702482,  0.93629921,\n",
       "         0.9755736 ]),\n",
       " <BarContainer object of 50 artists>)"
      ]
     },
     "execution_count": 23,
     "metadata": {},
     "output_type": "execute_result"
    },
    {
     "data": {
      "image/png": "[encoded data removed]",
      "text/plain": [
       "<Figure size 640x480 with 1 Axes>"
      ]
     },
     "metadata": {},
     "output_type": "display_data"
    }
   ],
   "source": [
    "plt.title(\"Activations- Tanh Outputs\")\n",
    "plt.hist(activations.view(-1).tolist(), 50)"
   ]
  },
  {
   "cell_type": "markdown",
   "metadata": {},
   "source": [
    "This is much better. We have a much less saturated tanh."
   ]
  },
  {
   "cell_type": "markdown",
   "metadata": {},
   "source": [
    "### Kaiming Initialization\n",
    "\n",
    "We need some way to find out how to scale down the weight matrices- not by putting some random numbers and use them as scaling factors. "
   ]
  },
  {
   "cell_type": "code",
   "execution_count": 9,
   "metadata": {},
   "outputs": [
    {
     "name": "stdout",
     "output_type": "stream",
     "text": [
      "X's mean and stdev is:  tensor(0.0016) tensor(1.0067)\n",
      "W's mean and stdev is:  tensor(-0.0163) tensor(0.9774)\n"
     ]
    },
    {
     "data": {
      "text/plain": [
       "(array([1.49611122e-05, 7.48055610e-06, 2.99222244e-05, 8.22861171e-05,\n",
       "        1.04727785e-04, 1.94494459e-04, 3.59066693e-04, 5.53561152e-04,\n",
       "        8.75225064e-04, 1.44374733e-03, 2.07211404e-03, 3.21663912e-03,\n",
       "        4.99701148e-03, 7.70497278e-03, 1.11909119e-02, 1.68536929e-02,\n",
       "        2.42669240e-02, 3.38569969e-02, 4.73893229e-02, 6.35772463e-02,\n",
       "        8.24806116e-02, 1.01428860e-01, 1.18626659e-01, 1.33273588e-01,\n",
       "        1.39145824e-01, 1.36198485e-01, 1.23997698e-01, 1.08213725e-01,\n",
       "        8.84126926e-02, 6.99880829e-02, 5.31418705e-02, 3.89138528e-02,\n",
       "        2.71095353e-02, 1.94270042e-02, 1.25897759e-02, 9.02903121e-03,\n",
       "        5.75254764e-03, 3.50838081e-03, 2.30401128e-03, 1.37642232e-03,\n",
       "        9.57511181e-04, 5.68522264e-04, 2.39377795e-04, 2.46858351e-04,\n",
       "        1.42130566e-04, 1.27169454e-04, 3.74027805e-05, 2.24416683e-05,\n",
       "        2.24416683e-05, 3.74027805e-05]),\n",
       " array([-16.48653412, -15.81813461, -15.14973511, -14.4813356 ,\n",
       "        -13.8129361 , -13.14453659, -12.47613708, -11.80773758,\n",
       "        -11.13933807, -10.47093857,  -9.80253906,  -9.13413956,\n",
       "         -8.46574005,  -7.79734055,  -7.12894104,  -6.46054153,\n",
       "         -5.79214203,  -5.12374252,  -4.45534302,  -3.78694351,\n",
       "         -3.11854401,  -2.4501445 ,  -1.781745  ,  -1.11334549,\n",
       "         -0.44494598,   0.22345352,   0.89185303,   1.56025253,\n",
       "          2.22865204,   2.89705154,   3.56545105,   4.23385056,\n",
       "          4.90225006,   5.57064957,   6.23904907,   6.90744858,\n",
       "          7.57584808,   8.24424759,   8.91264709,   9.5810466 ,\n",
       "         10.24944611,  10.91784561,  11.58624512,  12.25464462,\n",
       "         12.92304413,  13.59144363,  14.25984314,  14.92824265,\n",
       "         15.59664215,  16.26504166,  16.93344116]),\n",
       " <BarContainer object of 50 artists>)"
      ]
     },
     "execution_count": 9,
     "metadata": {},
     "output_type": "execute_result"
    },
    {
     "data": {
      "image/png": "[encoded data removed]",
      "text/plain": [
       "<Figure size 2000x500 with 2 Axes>"
      ]
     },
     "metadata": {},
     "output_type": "display_data"
    }
   ],
   "source": [
    "x = torch.randn(1000, 10)\n",
    "w = torch.randn(10, 200)\n",
    "\n",
    "print(\"X's mean and stdev is: \", x.mean(), x.std())\n",
    "print(\"W's mean and stdev is: \", w.mean(), w.std())\n",
    "\n",
    "y = x @ w\n",
    "\n",
    "plt.figure(figsize=(20, 5))\n",
    "plt.subplot(121)\n",
    "plt.hist(x.view(-1).tolist(), 50, density=True)\n",
    "\n",
    "plt.subplot(122)\n",
    "plt.hist(y.view(-1).tolist(), 50, density=True)"
   ]
  },
  {
   "cell_type": "markdown",
   "metadata": {},
   "source": [
    "Notice that the input to the first layer is going to be `x`, and the input to the second layer is going to be `x @ w = y`. Observe how the mean stays the same after multiplication, but if the weights are high, the variance expands a lot! (If the weights are low, then the variance will shrink.)\n",
    "\n",
    "We have assumed that `x` and `w` both come from standard gaussian distributions.\n",
    "\n",
    "That is to say that after matrix multiplication the gaussian *expands*, and the inputs to deeper layers become more and more extreme. We don't want the variance to expand- we want a similar standard distribution of inputs even in deeper layers of the neural net. \n",
    "\n",
    "So we need a way to preserve the standard gaussian across layers."
   ]
  },
  {
   "cell_type": "markdown",
   "metadata": {},
   "source": [
    "One way to do this is as follows:\n",
    "\n",
    "Divide the weight matrices by the square root of the inputs passed to the matrix, i.e. the first dim of the matrix.\n",
    "\n",
    "For example:\n",
    "```python\n",
    "w = torch.randn(10, 200) / (10 ** 0.5)\n",
    "```"
   ]
  },
  {
   "cell_type": "markdown",
   "metadata": {},
   "source": [
    "If we initialize the weights well, backpropagation also works approximately good up to a constant factor. But in practice, this choice of whether to carefully initialize for the forward pass or for the backward pass doesn't matter that much. \n",
    "\n",
    "Kaiming Initialization is a good way to overcome the initialization issues. However, due to optimizers like ADAM and due to batch normalization, etc., initialization is not that big of an issue. \n",
    "\n",
    "Look up Kaiming Initialization, which is now the de facto way of initialization. \n",
    "\n",
    "For Tanh activations, you'd want to multiply the weight matrix by $\\dfrac{5}{3}$ before you divide by the square root of fan_in.\n",
    "\n",
    "**Pro Tip:** When Andrej initializes, he basically takes square root of the fan_in, i.e. the inputs of the matrix."
   ]
  },
  {
   "cell_type": "code",
   "execution_count": null,
   "metadata": {},
   "outputs": [],
   "source": [
    "# Since only W1 is going into Tanh, we'll kaiming init only W1\n",
    "# Rest of the intializations, we'll keep them as is.\n",
    "C  = torch.randn((vocab_size, n_embd),            generator=g)\n",
    "W1 = torch.randn((n_embd * block_size, n_hidden), generator=g) * (5/3) / ((n_embd*block_size)**0.5)\n",
    "b1 = torch.randn(n_hidden,                        generator=g) * 0.01\n",
    "W2 = torch.randn((n_hidden, vocab_size),          generator=g) * 0.01\n",
    "b2 = torch.randn(vocab_size,                      generator=g) * 0\n",
    "\n",
    "parameters = [C, W1, b1, W2, b2]\n",
    "for p in parameters:\n",
    "  p.requires_grad = True\n",
    "\n",
    "epochs = 10_000\n",
    "batch_size = 32\n",
    "lossi = [ ]\n",
    "\n",
    "for i in range(epochs):\n",
    "\n",
    "    # Construct the minibatch\n",
    "    idxs = torch.randint(0, X_train.shape[0], (batch_size, ), generator=g)\n",
    "    X_batch, y_batch = X_train[idxs], Y_train[idxs]\n",
    "\n",
    "    # Forward pass\n",
    "    embeddings = C[X_batch]\n",
    "    concatenated_embeddings = embeddings.view(embeddings.shape[0], -1) # Concatenate the embeddings\n",
    "    preactivations = concatenated_embeddings @ W1 + b1\n",
    "    activations = torch.tanh(preactivations)\n",
    "    logits = activations @ W2 + b2 # Output layer\n",
    "\n",
    "    loss = F.cross_entropy(logits, y_batch) # PyTorch will apply softmax internally\n",
    "\n",
    "    for p in parameters:\n",
    "        p.grad = None\n",
    "\n",
    "    loss.backward()\n",
    "\n",
    "    lr = 0.1 if i < 10_000 else 0.01\n",
    "\n",
    "    for p in parameters:\n",
    "        p.data -= lr * p.grad"
   ]
  },
  {
   "cell_type": "markdown",
   "metadata": {},
   "source": [
    "### Batch Normalization\n",
    "\n",
    "Instead of focusing so much on intialization, we normalize the pre-activations to be unit Gaussian at least at initialization. After initialization, we want the model to decide whether the pre-activations should be unit Gaussian or some other distribution. \n",
    "\n",
    "Remember that this is not like a probability distribution, but rather you have a bunch of values that when put together resemble the standard bell curve. You have the liberty to add / multiply the *values* of the pre-activations by some numbers and get an entirely different distribution. That is, if you have 3 pre-activations, you can have 3 *scale* values that you multiply the pre-activations with, and you can have 3 *shift* values that you add the pre-activations with. This way, at initialization, we have Gaussian pre-activations but they don't have to be Gaussian throughout the training. \n",
    "\n",
    "Again, you want your model to learn these scale and shift values, and as Mitesh Sir likes to say, when you want the model to learn something, you introduce parameters. So we introduce new parameters for the scale and shift- *bngain* and *bnbias*.\n",
    "\n",
    "Further, because you are adding the *bnbias*, the bias parameters *b1* become redundant, so we can get rid of them. Because intuitively, *bnbias* is going to learn the same bias as *b1*."
   ]
  },
  {
   "cell_type": "code",
   "execution_count": 18,
   "metadata": {},
   "outputs": [
    {
     "name": "stdout",
     "output_type": "stream",
     "text": [
      "Number of parameters is: 12297\n"
     ]
    }
   ],
   "source": [
    "C  = torch.randn((vocab_size, n_embd),            generator=g)\n",
    "W1 = torch.randn((n_embd * block_size, n_hidden), generator=g) * (5/3) / ((n_embd*block_size)**0.5)\n",
    "b1 = torch.randn(n_hidden,                        generator=g) * 0.01\n",
    "W2 = torch.randn((n_hidden, vocab_size),          generator=g) * 0.01\n",
    "b2 = torch.randn(vocab_size,                      generator=g) * 0\n",
    "\n",
    "# Introduce the scale and shift parameters\n",
    "bn_bias = torch.zeros((1, n_hidden))\n",
    "bn_gain = torch.ones((1, n_hidden))\n",
    "\n",
    "parameters = [ C, W1, b1, W2, b2, bn_gain, bn_bias ]\n",
    "for p in parameters:\n",
    "    p.requires_grad = True\n",
    "\n",
    "print(f\"Number of parameters is: {sum(p.nelement() for p in parameters)}\")"
   ]
  },
  {
   "cell_type": "markdown",
   "metadata": {},
   "source": [
    "For inference time, we need to use the *bn_gain* and *bn_bias* that is an average of the entire training dataset. Without this, you will need to pass an entire batch for inference and you won't be able to pass a single input for prediction. So we define the running *bn_mean* and running *bn_bias*. In PyTorch, these are called *buffers*."
   ]
  },
  {
   "cell_type": "code",
   "execution_count": null,
   "metadata": {},
   "outputs": [],
   "source": [
    "bn_mean_running = torch.zeros((1, n_hidden))\n",
    "bn_std_running = torch.ones((1, n_hidden))"
   ]
  },
  {
   "cell_type": "code",
   "execution_count": null,
   "metadata": {},
   "outputs": [
    {
     "name": "stdout",
     "output_type": "stream",
     "text": [
      "      0/  10000: 3.3224\n",
      "   1000/  10000: 2.3477\n",
      "   2000/  10000: 2.4604\n",
      "   3000/  10000: 2.0222\n",
      "   4000/  10000: 2.2599\n",
      "   5000/  10000: 2.2993\n",
      "   6000/  10000: 2.1970\n",
      "   7000/  10000: 2.2350\n",
      "   8000/  10000: 2.6630\n",
      "   9000/  10000: 2.4127\n",
      "Loss:  2.3850536346435547\n"
     ]
    }
   ],
   "source": [
    "# Train the model\n",
    "epochs = 10_000\n",
    "batch_size = 32\n",
    "lossi = [ ]\n",
    "\n",
    "for i in range(epochs):\n",
    "\n",
    "    # Construct the minibatch\n",
    "    idxs = torch.randint(0, X_train.shape[0], (batch_size, ), generator=g)\n",
    "    X_batch, y_batch = X_train[idxs], Y_train[idxs]\n",
    "\n",
    "    # Forward pass\n",
    "    embeddings = C[X_batch]\n",
    "    concatenated_embeddings = embeddings.view(embeddings.shape[0], -1) # Concatenate the embeddings\n",
    "    preactivations = concatenated_embeddings @ W1 # Don't need the b1 biases here\n",
    "\n",
    "    # Batch Normalization and running Mean\n",
    "    bnmeani = preactivations.mean(0, keepdim=True)\n",
    "    bnstdi = preactivations.std(0, keepdim=True)\n",
    "    preactivations = bn_gain * (preactivations - bnmeani) / bnstdi + bn_bias\n",
    "    with torch.no_grad():\n",
    "        bn_mean_running = 0.999 * bn_mean_running + 0.001 * bnmeani\n",
    "        bn_std_running = 0.999 * bn_std_running + 0.001 * bnstdi # 0.001 is called \"momentum\" in PyTorch. Roughly: Large batch size => higher momentum is fine like 0.1\n",
    "\n",
    "    activations = torch.tanh(preactivations)\n",
    "    logits = activations @ W2 + b2 # Output layer\n",
    "\n",
    "    loss = F.cross_entropy(logits, y_batch) # PyTorch will apply softmax internally\n",
    "\n",
    "    for p in parameters:\n",
    "        p.grad = None\n",
    "\n",
    "    loss.backward()\n",
    "\n",
    "    lr = 0.1 if i < 10_000 else 0.01\n",
    "\n",
    "    for p in parameters:\n",
    "        p.data -= lr * p.grad\n",
    "\n",
    "    if i % 1000 == 0:\n",
    "        print(f\"{i:7d}/{epochs:7d}: {loss.item():.4f}\")\n",
    "    lossi.append(loss.log10().item())\n",
    "\n",
    "print(\"Loss: \", loss.item())"
   ]
  },
  {
   "cell_type": "code",
   "execution_count": null,
   "metadata": {},
   "outputs": [],
   "source": [
    "@torch.no_grad()\n",
    "def split_loss(split):\n",
    "    x, y = {\n",
    "        'train': [X_train, Y_train], \n",
    "        'test': [X_test, Y_test], \n",
    "        'val': [X_val, Y_val]\n",
    "    }[split]\n",
    "\n",
    "    embeddings = C[x]\n",
    "    concatenated_embeddings = embeddings.view(embeddings.shape[0], -1)\n",
    "    preactivations = concatenated_embeddings @ W1 \n",
    "    preactivations = bn_gain * (preactivations -  bn_mean_running) / bn_std_running + bn_bias\n",
    "    activations = torch.tanh(preactivations)\n",
    "    logits = activations @ W2 + b2 # Output layer\n",
    "\n",
    "    loss = F.cross_entropy(logits, y) # PyTorch will apply softmax internally\n",
    "\n",
    "    print(f\"For {split}, loss was: {loss.item()}\")"
   ]
  },
  {
   "cell_type": "code",
   "execution_count": 21,
   "metadata": {},
   "outputs": [
    {
     "name": "stdout",
     "output_type": "stream",
     "text": [
      "For train, loss was: 2.263530731201172\n",
      "For val, loss was: 2.2691726684570312\n"
     ]
    },
    {
     "data": {
      "text/plain": [
       "(None, None)"
      ]
     },
     "execution_count": 21,
     "metadata": {},
     "output_type": "execute_result"
    }
   ],
   "source": [
    "split_loss('train'), split_loss('val')"
   ]
  },
  {
   "cell_type": "markdown",
   "metadata": {},
   "source": [
    "Batch normalization makes the normalization of weights scalable. Instead of manually defining the gain for each linear layer, we can add batch normalization layers throughout the network and it achieves the same thing. Typically, after linear or convolutional layers, you add batch normalization."
   ]
  },
  {
   "cell_type": "markdown",
   "metadata": {},
   "source": [
    "#### Some Things to Keep in Mind About Batch Normalization\n",
    "\n",
    "1. Because of BN, the logits and the preactivations are a function of not just the input `x` but the entire batch! ( Since you're taking mean and standard deviation and dividing by it). So for different batch, you're going to get different mean and standard deviation. As a result, there will be some noise while training- but in practice, this acts as a regularizer! This, at times, can cause bugs in your code.\n",
    "2. But it's not ideal to have this property of an output being coupled with an entire batch. So there are now methods such as group normalization, layer normalization, etc. that try to overcome this. "
   ]
  },
  {
   "cell_type": "markdown",
   "metadata": {},
   "source": [
    "**Pro Tip:** \n",
    "\n",
    "In practice, when training deep neural networks, should you use ReLU or should you use Tanh? When training very deep neural nets, ReLU empiracally works better."
   ]
  },
  {
   "cell_type": "markdown",
   "metadata": {},
   "source": [
    "## PyTorch-ifying Code"
   ]
  },
  {
   "cell_type": "code",
   "execution_count": null,
   "metadata": {},
   "outputs": [],
   "source": [
    "class Linear:\n",
    "    def __init__(self, fan_in, fan_out, bias=True):\n",
    "        self.weight = torch.randn((fan_in, fan_out), generator=g) / (fan_in **0.5) # Divide by sqrt(fan_in)\n",
    "        self.bias = torch.zeros(fan_out) if bias else None\n",
    "\n",
    "    def __call__(self, x):\n",
    "        self.out = x @ self.weight\n",
    "        if self.bias is not None:\n",
    "            self.out += self.bias\n",
    "        return self.out\n",
    "    \n",
    "    def parameters(self):\n",
    "        return [self.weight] + ([] if self.bias is None else [self.bias])\n",
    "\n",
    "class BatchNorm1d:\n",
    "    def __init__(self, dim, eps=1e-5, momentum=0.1):\n",
    "        self.eps = eps # Small number to avoid zero division error when normalization\n",
    "        self.momentum = momentum\n",
    "        self.training = True\n",
    "\n",
    "        # Parameters\n",
    "        self.gamma = torch.ones(dim)\n",
    "        self.beta = torch.zeros(dim)\n",
    "\n",
    "        # Not parameters- \"buffers\"\n",
    "        self.running_mean = torch.ones(dim)\n",
    "        self.running_var = torch.zeros(dim)\n",
    "\n",
    "    def __call__(self, x:torch.Tensor):\n",
    "        if self.training:\n",
    "            xmean = x.mean(0, keepdim=True) # Batch mean\n",
    "            xvar = x.var(0, keepdim=True, unbiased=True) # Batch variance\n",
    "\n",
    "        else:\n",
    "            xmean = self.running_mean\n",
    "            xvar = self.running_var\n",
    "\n",
    "        xhat = (x - xmean) / torch.sqrt(xvar + self.eps) # Normalize to zero mean and unit variance\n",
    "\n",
    "        self.out = self.gamma * xhat +  self.beta\n",
    "        \n",
    "        if self.training:\n",
    "            with torch.no_grad():\n",
    "                self.running_mean = (1 - self.momentum) * self.running_mean + self.momentum * xmean\n",
    "                self.running_var = (1 - self.momentum) * self.running_var + self.momentum * xvar\n",
    "        return self.out\n",
    "\n",
    "    def parameters(self):\n",
    "        return [self.gamma, self.beta]\n",
    "    \n",
    "class Tanh:\n",
    "    def __call__(self, x):\n",
    "        self.out = torch.tanh(x)\n",
    "        return self.out\n",
    "\n",
    "    def parameters(self):\n",
    "        return []"
   ]
  }
 ],
 "metadata": {
  "kernelspec": {
   "display_name": "makemore",
   "language": "python",
   "name": "python3"
  },
  "language_info": {
   "codemirror_mode": {
    "name": "ipython",
    "version": 3
   },
   "file_extension": ".py",
   "mimetype": "text/x-python",
   "name": "python",
   "nbconvert_exporter": "python",
   "pygments_lexer": "ipython3",
   "version": "3.11.10"
  }
 },
 "nbformat": 4,
 "nbformat_minor": 2
}
