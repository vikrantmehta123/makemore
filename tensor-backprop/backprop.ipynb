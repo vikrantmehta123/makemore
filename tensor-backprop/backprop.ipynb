{
 "cells": [
  {
   "cell_type": "markdown",
   "metadata": {},
   "source": [
    "# Backprop Ninja\n",
    "\n",
    "In this notebook, I've tried to implement Makemore: Part 4 from Andrej Karpathy's series, along with my notes of the lecture."
   ]
  }
 ],
 "metadata": {
  "language_info": {
   "name": "python"
  }
 },
 "nbformat": 4,
 "nbformat_minor": 2
}
